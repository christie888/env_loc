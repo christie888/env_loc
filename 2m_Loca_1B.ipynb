{
 "cells": [
  {
   "cell_type": "code",
   "execution_count": 1,
   "metadata": {},
   "outputs": [],
   "source": [
    "# Pandas and numpy for data manipulation\n",
    "import pandas as pd\n",
    "import numpy as np\n",
    "from time import time\n",
    "import pickle\n",
    "#from datetime import *\n",
    "\n",
    "# No warnings about setting value on copy of slice\n",
    "pd.options.mode.chained_assignment = None\n",
    "pd.set_option('display.max_columns', 60)\n",
    "\n",
    "# Matplotlib for visualization\n",
    "import matplotlib.pyplot as plt\n",
    "%matplotlib inline\n",
    "\n",
    "# Set default font size\n",
    "plt.rcParams['font.size'] = 18\n",
    "\n",
    "from IPython.core.pylabtools import figsize\n",
    "\n",
    "# Seaborn for visualization\n",
    "import seaborn as sns\n",
    "sns.set(font_scale = 2)\n",
    "\n",
    "import warnings\n",
    "warnings.filterwarnings('ignore')\n",
    "\n",
    "# Imputing missing values and scaling values\n",
    "from sklearn.preprocessing import MinMaxScaler\n",
    "from sklearn.impute import SimpleImputer\n",
    "\n",
    "# Machine Learning Models\n",
    "from sklearn.linear_model import LinearRegression\n",
    "from sklearn.ensemble import RandomForestRegressor, GradientBoostingRegressor\n",
    "from sklearn.svm import SVR, SVC\n",
    "from sklearn.neighbors import KNeighborsRegressor\n",
    "\n",
    "# Hyperparameter tuning\n",
    "from sklearn.model_selection import train_test_split\n",
    "from sklearn.model_selection import RandomizedSearchCV, GridSearchCV\n",
    "from sklearn.metrics import roc_auc_score,mean_squared_error,recall_score,max_error,accuracy_score,confusion_matrix,r2_score"
   ]
  },
  {
   "cell_type": "code",
   "execution_count": 6,
   "metadata": {},
   "outputs": [
    {
     "name": "stdout",
     "output_type": "stream",
     "text": [
      "Training Feature Size:  (390122, 10)\n",
      "Testing Feature Size:   (167196, 10)\n",
      "Training Labels Size:   (390122, 1)\n",
      "Testing Labels Size:    (167196, 1)\n",
      "[ 1  2  3  4  5  6  7  8  9 10]\n",
      "9     52817\n",
      "7     52736\n",
      "1     51915\n",
      "8     51911\n",
      "5     40992\n",
      "10    40793\n",
      "4     32298\n",
      "6     29938\n",
      "3     18391\n",
      "2     18331\n",
      "dtype: int64\n"
     ]
    }
   ],
   "source": [
    "# Save the no scores, training, and testing data\n",
    "# no_location =pd.read_csv('DB/new_data/no_location.csv')\n",
    "# train_features=pd.read_csv('DB/new_data/training_features.csv')\n",
    "# test_features=pd.read_csv('DB/new_data/testing_features.csv')\n",
    "# train_labels=pd.read_csv('DB/new_data/training_labels.csv')\n",
    "# test_labels=pd.read_csv('DB/new_data/testing_labels.csv')\n",
    "#no_location =pd.read_csv('DB/data_fill/no_location.csv')\n",
    "\n",
    "# Separate out the features and targets\n",
    "df=pd.read_csv('DB/new_data/allData_resample_10m.csv')\n",
    "targets = pd.DataFrame(df['location_no'])\n",
    "features =df.drop(columns={'location','location_no','floor_no'})\n",
    "\n",
    "\n",
    "# Replace the inf and -inf with nan (required for later imputation)\n",
    "#features = features.replace({np.inf: np.nan, -np.inf: np.nan})\n",
    "\n",
    "# Split into 70% training and 30% testing set\n",
    "train_features, test_features, train_labels, test_labels = train_test_split(features, targets, test_size = 0.3, random_state = 42)\n",
    "\n",
    "# train_features=pd.read_csv('DB/data_fill/training_features.csv')\n",
    "# test_features=pd.read_csv('DB/data_fill/testing_features.csv')\n",
    "# train_labels=pd.read_csv('DB/data_fill/training_labels.csv')\n",
    "# test_labels=pd.read_csv('DB/data_fill/testing_labels.csv')\n",
    "\n",
    "# Display sizes of data\n",
    "print('Training Feature Size: ', train_features.shape)\n",
    "print('Testing Feature Size:  ', test_features.shape)\n",
    "print('Training Labels Size:  ', train_labels.shape)\n",
    "print('Testing Labels Size:   ', test_labels.shape)\n",
    "print(np.unique(train_labels))\n",
    "print(pd.value_counts(train_labels['location_no'].values))"
   ]
  },
  {
   "cell_type": "code",
   "execution_count": 7,
   "metadata": {},
   "outputs": [
    {
     "data": {
      "text/html": [
       "<div>\n",
       "<style scoped>\n",
       "    .dataframe tbody tr th:only-of-type {\n",
       "        vertical-align: middle;\n",
       "    }\n",
       "\n",
       "    .dataframe tbody tr th {\n",
       "        vertical-align: top;\n",
       "    }\n",
       "\n",
       "    .dataframe thead th {\n",
       "        text-align: right;\n",
       "    }\n",
       "</style>\n",
       "<table border=\"1\" class=\"dataframe\">\n",
       "  <thead>\n",
       "    <tr style=\"text-align: right;\">\n",
       "      <th></th>\n",
       "      <th>new_tsp</th>\n",
       "      <th>temperature</th>\n",
       "      <th>humidity</th>\n",
       "      <th>pressure</th>\n",
       "      <th>light</th>\n",
       "      <th>weekday</th>\n",
       "      <th>quarter</th>\n",
       "      <th>month</th>\n",
       "      <th>hour</th>\n",
       "      <th>day</th>\n",
       "    </tr>\n",
       "  </thead>\n",
       "  <tbody>\n",
       "    <tr>\n",
       "      <th>321014</th>\n",
       "      <td>2019-10-21 06:10:00</td>\n",
       "      <td>23.574302</td>\n",
       "      <td>53.187723</td>\n",
       "      <td>1017.385253</td>\n",
       "      <td>260.376083</td>\n",
       "      <td>1</td>\n",
       "      <td>4</td>\n",
       "      <td>10</td>\n",
       "      <td>6</td>\n",
       "      <td>21</td>\n",
       "    </tr>\n",
       "    <tr>\n",
       "      <th>402902</th>\n",
       "      <td>2019-12-04 18:50:00</td>\n",
       "      <td>14.420389</td>\n",
       "      <td>44.484929</td>\n",
       "      <td>1025.523538</td>\n",
       "      <td>1.256912</td>\n",
       "      <td>3</td>\n",
       "      <td>4</td>\n",
       "      <td>12</td>\n",
       "      <td>18</td>\n",
       "      <td>4</td>\n",
       "    </tr>\n",
       "    <tr>\n",
       "      <th>189264</th>\n",
       "      <td>2019-10-13 16:00:00</td>\n",
       "      <td>24.775566</td>\n",
       "      <td>60.112217</td>\n",
       "      <td>996.167334</td>\n",
       "      <td>2.432000</td>\n",
       "      <td>7</td>\n",
       "      <td>4</td>\n",
       "      <td>10</td>\n",
       "      <td>16</td>\n",
       "      <td>13</td>\n",
       "    </tr>\n",
       "    <tr>\n",
       "      <th>328272</th>\n",
       "      <td>2019-12-10 15:50:00</td>\n",
       "      <td>16.013328</td>\n",
       "      <td>35.085506</td>\n",
       "      <td>1024.389998</td>\n",
       "      <td>1.708518</td>\n",
       "      <td>2</td>\n",
       "      <td>4</td>\n",
       "      <td>12</td>\n",
       "      <td>15</td>\n",
       "      <td>10</td>\n",
       "    </tr>\n",
       "    <tr>\n",
       "      <th>268143</th>\n",
       "      <td>2019-11-28 07:00:00</td>\n",
       "      <td>20.005251</td>\n",
       "      <td>43.333102</td>\n",
       "      <td>1018.871397</td>\n",
       "      <td>4.260986</td>\n",
       "      <td>4</td>\n",
       "      <td>4</td>\n",
       "      <td>11</td>\n",
       "      <td>7</td>\n",
       "      <td>28</td>\n",
       "    </tr>\n",
       "    <tr>\n",
       "      <th>329344</th>\n",
       "      <td>2019-12-18 02:30:00</td>\n",
       "      <td>15.819686</td>\n",
       "      <td>29.786049</td>\n",
       "      <td>1025.683959</td>\n",
       "      <td>1.213576</td>\n",
       "      <td>3</td>\n",
       "      <td>4</td>\n",
       "      <td>12</td>\n",
       "      <td>2</td>\n",
       "      <td>18</td>\n",
       "    </tr>\n",
       "    <tr>\n",
       "      <th>12035</th>\n",
       "      <td>2019-10-07 11:40:00</td>\n",
       "      <td>26.758929</td>\n",
       "      <td>56.312500</td>\n",
       "      <td>1017.273871</td>\n",
       "      <td>18.039009</td>\n",
       "      <td>1</td>\n",
       "      <td>4</td>\n",
       "      <td>10</td>\n",
       "      <td>11</td>\n",
       "      <td>7</td>\n",
       "    </tr>\n",
       "    <tr>\n",
       "      <th>528424</th>\n",
       "      <td>2020-05-26 08:20:00</td>\n",
       "      <td>24.179766</td>\n",
       "      <td>55.457934</td>\n",
       "      <td>1013.801446</td>\n",
       "      <td>348.162896</td>\n",
       "      <td>2</td>\n",
       "      <td>2</td>\n",
       "      <td>5</td>\n",
       "      <td>8</td>\n",
       "      <td>26</td>\n",
       "    </tr>\n",
       "    <tr>\n",
       "      <th>315210</th>\n",
       "      <td>2019-09-10 22:50:00</td>\n",
       "      <td>29.042226</td>\n",
       "      <td>47.384041</td>\n",
       "      <td>1014.839678</td>\n",
       "      <td>36.232583</td>\n",
       "      <td>2</td>\n",
       "      <td>3</td>\n",
       "      <td>9</td>\n",
       "      <td>22</td>\n",
       "      <td>10</td>\n",
       "    </tr>\n",
       "    <tr>\n",
       "      <th>490640</th>\n",
       "      <td>2019-09-06 23:00:00</td>\n",
       "      <td>27.187774</td>\n",
       "      <td>53.370339</td>\n",
       "      <td>1016.498432</td>\n",
       "      <td>0.486400</td>\n",
       "      <td>5</td>\n",
       "      <td>3</td>\n",
       "      <td>9</td>\n",
       "      <td>23</td>\n",
       "      <td>6</td>\n",
       "    </tr>\n",
       "  </tbody>\n",
       "</table>\n",
       "</div>"
      ],
      "text/plain": [
       "                    new_tsp  temperature   humidity     pressure       light  \\\n",
       "321014  2019-10-21 06:10:00    23.574302  53.187723  1017.385253  260.376083   \n",
       "402902  2019-12-04 18:50:00    14.420389  44.484929  1025.523538    1.256912   \n",
       "189264  2019-10-13 16:00:00    24.775566  60.112217   996.167334    2.432000   \n",
       "328272  2019-12-10 15:50:00    16.013328  35.085506  1024.389998    1.708518   \n",
       "268143  2019-11-28 07:00:00    20.005251  43.333102  1018.871397    4.260986   \n",
       "329344  2019-12-18 02:30:00    15.819686  29.786049  1025.683959    1.213576   \n",
       "12035   2019-10-07 11:40:00    26.758929  56.312500  1017.273871   18.039009   \n",
       "528424  2020-05-26 08:20:00    24.179766  55.457934  1013.801446  348.162896   \n",
       "315210  2019-09-10 22:50:00    29.042226  47.384041  1014.839678   36.232583   \n",
       "490640  2019-09-06 23:00:00    27.187774  53.370339  1016.498432    0.486400   \n",
       "\n",
       "        weekday  quarter  month  hour  day  \n",
       "321014        1        4     10     6   21  \n",
       "402902        3        4     12    18    4  \n",
       "189264        7        4     10    16   13  \n",
       "328272        2        4     12    15   10  \n",
       "268143        4        4     11     7   28  \n",
       "329344        3        4     12     2   18  \n",
       "12035         1        4     10    11    7  \n",
       "528424        2        2      5     8   26  \n",
       "315210        2        3      9    22   10  \n",
       "490640        5        3      9    23    6  "
      ]
     },
     "execution_count": 7,
     "metadata": {},
     "output_type": "execute_result"
    }
   ],
   "source": [
    "train_features.head(10)"
   ]
  },
  {
   "cell_type": "code",
   "execution_count": 13,
   "metadata": {},
   "outputs": [
    {
     "ename": "ValueError",
     "evalue": "Buffer has wrong number of dimensions (expected 1, got 2)",
     "output_type": "error",
     "traceback": [
      "\u001b[0;31m---------------------------------------------------------------------------\u001b[0m",
      "\u001b[0;31mValueError\u001b[0m                                Traceback (most recent call last)",
      "\u001b[0;32m<ipython-input-13-a86bf01abe07>\u001b[0m in \u001b[0;36m<module>\u001b[0;34m\u001b[0m\n\u001b[0;32m----> 1\u001b[0;31m \u001b[0mprint\u001b[0m\u001b[0;34m(\u001b[0m\u001b[0mpd\u001b[0m\u001b[0;34m.\u001b[0m\u001b[0mvalue_counts\u001b[0m\u001b[0;34m(\u001b[0m\u001b[0mtargets\u001b[0m\u001b[0;34m.\u001b[0m\u001b[0mvalues\u001b[0m\u001b[0;34m)\u001b[0m\u001b[0;34m)\u001b[0m\u001b[0;34m\u001b[0m\u001b[0;34m\u001b[0m\u001b[0m\n\u001b[0m",
      "\u001b[0;32m/opt/conda/envs/rapids/lib/python3.8/site-packages/pandas/core/algorithms.py\u001b[0m in \u001b[0;36mvalue_counts\u001b[0;34m(values, sort, ascending, normalize, bins, dropna)\u001b[0m\n\u001b[1;32m    795\u001b[0m \u001b[0;34m\u001b[0m\u001b[0m\n\u001b[1;32m    796\u001b[0m         \u001b[0;32melse\u001b[0m\u001b[0;34m:\u001b[0m\u001b[0;34m\u001b[0m\u001b[0;34m\u001b[0m\u001b[0m\n\u001b[0;32m--> 797\u001b[0;31m             \u001b[0mkeys\u001b[0m\u001b[0;34m,\u001b[0m \u001b[0mcounts\u001b[0m \u001b[0;34m=\u001b[0m \u001b[0m_value_counts_arraylike\u001b[0m\u001b[0;34m(\u001b[0m\u001b[0mvalues\u001b[0m\u001b[0;34m,\u001b[0m \u001b[0mdropna\u001b[0m\u001b[0;34m)\u001b[0m\u001b[0;34m\u001b[0m\u001b[0;34m\u001b[0m\u001b[0m\n\u001b[0m\u001b[1;32m    798\u001b[0m \u001b[0;34m\u001b[0m\u001b[0m\n\u001b[1;32m    799\u001b[0m             \u001b[0mresult\u001b[0m \u001b[0;34m=\u001b[0m \u001b[0mSeries\u001b[0m\u001b[0;34m(\u001b[0m\u001b[0mcounts\u001b[0m\u001b[0;34m,\u001b[0m \u001b[0mindex\u001b[0m\u001b[0;34m=\u001b[0m\u001b[0mkeys\u001b[0m\u001b[0;34m,\u001b[0m \u001b[0mname\u001b[0m\u001b[0;34m=\u001b[0m\u001b[0mname\u001b[0m\u001b[0;34m)\u001b[0m\u001b[0;34m\u001b[0m\u001b[0;34m\u001b[0m\u001b[0m\n",
      "\u001b[0;32m/opt/conda/envs/rapids/lib/python3.8/site-packages/pandas/core/algorithms.py\u001b[0m in \u001b[0;36m_value_counts_arraylike\u001b[0;34m(values, dropna)\u001b[0m\n\u001b[1;32m    840\u001b[0m         \u001b[0;31m# TODO: handle uint8\u001b[0m\u001b[0;34m\u001b[0m\u001b[0;34m\u001b[0m\u001b[0;34m\u001b[0m\u001b[0m\n\u001b[1;32m    841\u001b[0m         \u001b[0mf\u001b[0m \u001b[0;34m=\u001b[0m \u001b[0mgetattr\u001b[0m\u001b[0;34m(\u001b[0m\u001b[0mhtable\u001b[0m\u001b[0;34m,\u001b[0m \u001b[0;34mf\"value_count_{ndtype}\"\u001b[0m\u001b[0;34m)\u001b[0m\u001b[0;34m\u001b[0m\u001b[0;34m\u001b[0m\u001b[0m\n\u001b[0;32m--> 842\u001b[0;31m         \u001b[0mkeys\u001b[0m\u001b[0;34m,\u001b[0m \u001b[0mcounts\u001b[0m \u001b[0;34m=\u001b[0m \u001b[0mf\u001b[0m\u001b[0;34m(\u001b[0m\u001b[0mvalues\u001b[0m\u001b[0;34m,\u001b[0m \u001b[0mdropna\u001b[0m\u001b[0;34m)\u001b[0m\u001b[0;34m\u001b[0m\u001b[0;34m\u001b[0m\u001b[0m\n\u001b[0m\u001b[1;32m    843\u001b[0m \u001b[0;34m\u001b[0m\u001b[0m\n\u001b[1;32m    844\u001b[0m         \u001b[0mmask\u001b[0m \u001b[0;34m=\u001b[0m \u001b[0misna\u001b[0m\u001b[0;34m(\u001b[0m\u001b[0mvalues\u001b[0m\u001b[0;34m)\u001b[0m\u001b[0;34m\u001b[0m\u001b[0;34m\u001b[0m\u001b[0m\n",
      "\u001b[0;32mpandas/_libs/hashtable_func_helper.pxi\u001b[0m in \u001b[0;36mpandas._libs.hashtable.value_count_int64\u001b[0;34m()\u001b[0m\n",
      "\u001b[0;31mValueError\u001b[0m: Buffer has wrong number of dimensions (expected 1, got 2)"
     ]
    }
   ],
   "source": [
    "\n",
    "#print(pd.value_counts(targets.heavalues))"
   ]
  },
  {
   "cell_type": "code",
   "execution_count": 14,
   "metadata": {},
   "outputs": [
    {
     "name": "stdout",
     "output_type": "stream",
     "text": [
      "Missing values in training features:  0\n",
      "Missing values in testing features:   0\n"
     ]
    }
   ],
   "source": [
    "imputer = SimpleImputer(strategy='median')\n",
    "\n",
    "# Train on the training features\n",
    "imputer.fit(train_features.drop('new_tsp', axis=1))\n",
    "\n",
    "# Transform both training data and testing data\n",
    "X = imputer.transform(train_features.drop('new_tsp', axis=1))\n",
    "X_test = imputer.transform(test_features.drop('new_tsp', axis=1))\n",
    "print('Missing values in training features: ', np.sum(np.isnan(X)))\n",
    "print('Missing values in testing features:  ', np.sum(np.isnan(X_test)))"
   ]
  },
  {
   "cell_type": "code",
   "execution_count": 15,
   "metadata": {},
   "outputs": [],
   "source": [
    "# Create the scaler object with a range of 0-1\n",
    "scaler = MinMaxScaler(feature_range=(0, 1))\n",
    "# Fit on the training data\n",
    "scaler.fit(X)\n",
    "# Transform both the training and testing data\n",
    "X = scaler.transform(X)\n",
    "X_test = scaler.transform(X_test)"
   ]
  },
  {
   "cell_type": "code",
   "execution_count": 16,
   "metadata": {},
   "outputs": [
    {
     "name": "stdout",
     "output_type": "stream",
     "text": [
      "X Size:  (390122, 9)\n",
      "X_test Size:   (167196, 9)\n",
      "y Size:   (390122,)\n",
      "y_test Size:    (167196,)\n"
     ]
    }
   ],
   "source": [
    "# Convert y to one-dimensional array (vector)\n",
    "y = np.array(train_labels).reshape((-1, ))\n",
    "y_test = np.array(test_labels).reshape((-1, ))\n",
    "\n",
    "print('X Size: ', X.shape)\n",
    "print('X_test Size:  ', X_test.shape)\n",
    "print('y Size:  ', y.shape)\n",
    "print('y_test Size:   ', y_test.shape)"
   ]
  },
  {
   "cell_type": "markdown",
   "metadata": {},
   "source": [
    "Linear Regression\n",
    "\n",
    "Support Vector Machine Regression\n",
    "\n",
    "Random Forest Regression\n",
    "\n",
    "Gradient Boosting Regression\n",
    "\n",
    "K-Nearest Neighbors Regression"
   ]
  },
  {
   "cell_type": "code",
   "execution_count": 17,
   "metadata": {},
   "outputs": [],
   "source": [
    "# Function to calculate mean absolute error    \n",
    "def mae(y_true, y_pred):\n",
    "    return np.mean(abs(y_true - y_pred))\n",
    "\n",
    "def mse(y_true, y_pred):\n",
    "    return mean_squared_error(y_true, y_pred)\n",
    "\n",
    "def pro_pred(y_pred):\n",
    "    propre=np.round(y_pred)\n",
    "    return propre\n",
    "\n",
    "def make_confusion_matrix(y_test, model_pred):\n",
    "    cf_m = confusion_matrix(y_test, model_pred)\n",
    "    return cf_m\n",
    "\n",
    "def evaluate(y_test, model_pred):\n",
    "    model_pred=pro_pred(model_pred)\n",
    "    #print(\"test value size...\", pd.value_counts(y_test))\n",
    "    #print(\"predicted value size...\", pd.value_counts(model_pred))\n",
    "    model_mae = mae(y_test, model_pred)\n",
    "    model_mse = mse(y_test, model_pred)\n",
    "    # Compute confusion matrix\n",
    "    #print(cnf_matrix)\n",
    "    model_r2_score= r2_score(y_test, model_pred)\n",
    "    model_max_error= max_error(y_test, model_pred)\n",
    "    # save the model to disk\n",
    "    return model_mae,model_mse,model_r2_score,model_max_error, model_pred \n",
    "    \n",
    "\n",
    "# Takes in a model, trains the model, and evaluates the model on the test set\n",
    "def fit(model,filename):\n",
    "    # Train the model\n",
    "    model.fit(X, y)\n",
    "    # Make predictions and evalute\n",
    "    model_pred = model.predict(X_test)\n",
    "    model_pred=pro_pred(model_pred)\n",
    "    #print(\"test value size...\", pd.value_counts(y_test))\n",
    "    #print(\"predicted value size...\", pd.value_counts(model_pred))\n",
    "    model_mae = mae(y_test, model_pred)\n",
    "    model_mse = mse(y_test, model_pred)\n",
    "    # Compute confusion matrix\n",
    "    #print(cnf_matrix)\n",
    "    model_r2_score= r2_score(y_test, model_pred)\n",
    "    model_max_error= max_error(y_test, model_pred)\n",
    "    print(model_pred)\n",
    "    # save the model to disk\n",
    "    filename = 'stored_model/'+filename+'.sav'\n",
    "    pickle.dump(model, open(filename, 'wb'))\n",
    "    return model_mae,model_mse,model_r2_score,model_max_error, model_pred "
   ]
  },
  {
   "cell_type": "code",
   "execution_count": 18,
   "metadata": {},
   "outputs": [
    {
     "ename": "NameError",
     "evalue": "name 'fit_and_evaluate' is not defined",
     "output_type": "error",
     "traceback": [
      "\u001b[0;31m---------------------------------------------------------------------------\u001b[0m",
      "\u001b[0;31mNameError\u001b[0m                                 Traceback (most recent call last)",
      "\u001b[0;32m<timed exec>\u001b[0m in \u001b[0;36m<module>\u001b[0;34m\u001b[0m\n",
      "\u001b[0;31mNameError\u001b[0m: name 'fit_and_evaluate' is not defined"
     ]
    }
   ],
   "source": [
    "%%time\n",
    "t0 = time()\n",
    "lr = LinearRegression()\n",
    "lr_mae,lr_mse,lr_r2_score,lr_max_error,lr_pred = fit_and_evaluate(lr,'lr')\n",
    "t1 = time()\n",
    "lr_t=t1-t0\n",
    "\n",
    "print('Linear Regression Performance on the test set: \\n MAE = %0.4f' % lr_mae,\n",
    "      \"\\n MSE = %0.4f \"% lr_mse,\n",
    "      \"\\n Max error = %0.4f \"% lr_max_error,\n",
    "      \"\\n r2_sccore = %0.4f' \"% lr_r2_score,   \n",
    "      \"\\n time = %0.4f' \"% lr_t)\n",
    "\n",
    "print(np.unique(lr_pred))\n",
    "#\"\\n consumed time =  %0.4f\"%(t1 - t0))\n",
    "# print(lr_cnf_matrix)\n",
    "# plt.figure()\n",
    "# plot_confusion_matrix(lr_cnf_matrix, title='Confusion matrix')\n",
    "# plt.show()\n",
    "#pd.crosstab(test[\"Label\"], predictions, rownames=[\"Actual\"], colnames=[\"Predicted\"])\n",
    "#0.42"
   ]
  },
  {
   "cell_type": "code",
   "execution_count": null,
   "metadata": {},
   "outputs": [],
   "source": [
    "%%timeit\n",
    "t0 = time()\n",
    "#svm = SVR(C = 1000, gamma = 0.1)\n",
    "svm = SVR(C = 1, gamma = 0.15,cache_size=500)\n",
    "svm_mae,svm_mse,svm_r2_score,svm_max_error,svm_pred= fit_and_evaluate(svm,'svm')\n",
    "t1 = time()\n",
    "svm_t=t1-t0\n",
    "print('Random forest Performance on the test set: \\n MAE = %0.4f' % svm_mae,\n",
    "      \"\\n MSE = %0.4f \"% svm_mse,\n",
    "      \"\\n Max error = %0.4f \"% svm_r2_score,\n",
    "      \"\\n r2_sccore = %0.4f' \"% svm_max_error, \n",
    "      \"\\n time = %0.4f' \"% svm_t)"
   ]
  },
  {
   "cell_type": "code",
   "execution_count": null,
   "metadata": {},
   "outputs": [],
   "source": [
    "# %%timeit\n",
    "# t0 = time()\n",
    "\n",
    "# svc = SVC(kernel='poly', degree=2, gamma='auto', C=1)\n",
    "\n",
    "# t1 = time()\n",
    "# svm_t=t1-t0\n",
    "\n",
    "\n",
    "# svc_mae,svc_mse,svc_r2_score,svc_max_error,svc_pred= fit_and_evaluate(svc,'svc')\n",
    "\n",
    "# print(\"Predicted labels:\", clf.predict(X))"
   ]
  },
  {
   "cell_type": "code",
   "execution_count": 9,
   "metadata": {},
   "outputs": [
    {
     "name": "stdout",
     "output_type": "stream",
     "text": [
      "[ 5.  2. 10. ...  6.  5.  1.]\n",
      "Random forest Performance on the test set: \n",
      " MAE = 0.0371 \n",
      " MSE = 0.0894  \n",
      " Max error = 0.9902  \n",
      " r2_sccore = 8.0000'  \n",
      " time = 286.0403' \n",
      "CPU times: user 4min 45s, sys: 216 ms, total: 4min 45s\n",
      "Wall time: 4min 46s\n"
     ]
    }
   ],
   "source": [
    "%%time\n",
    "t0 = time()\n",
    "random_forest = RandomForestRegressor(random_state=60)\n",
    "random_forest_mae,rf_mse,rf_r2_score,rf_max_error, rf_pred= fit_and_evaluate(random_forest,'rf')\n",
    "t1 = time()\n",
    "rf_t=t1-t0\n",
    "print('Random forest Performance on the test set: \\n MAE = %0.4f' % random_forest_mae,\n",
    "      \"\\n MSE = %0.4f \"% rf_mse,\n",
    "      \"\\n Max error = %0.4f \"% rf_r2_score,\n",
    "      \"\\n r2_sccore = %0.4f' \"% rf_max_error, \n",
    "      \"\\n time = %0.4f' \"% rf_t)"
   ]
  },
  {
   "cell_type": "code",
   "execution_count": 10,
   "metadata": {},
   "outputs": [
    {
     "name": "stdout",
     "output_type": "stream",
     "text": [
      "[8. 2. 9. ... 7. 7. 4.]\n",
      "Gradient Boosted Regression Performance on the test set: \n",
      " MAE = 1.6920 \n",
      " MSE = 4.5818  \n",
      " Max error = 0.4956  \n",
      " r2_sccore = 8.0000'  \n",
      " time = 122.5078' \n",
      "CPU times: user 2min 2s, sys: 4 ms, total: 2min 2s\n",
      "Wall time: 2min 2s\n"
     ]
    }
   ],
   "source": [
    "%%time\n",
    "t0 = time()\n",
    "gradient_boosted = GradientBoostingRegressor(random_state=60)\n",
    "gradient_boosted_mae, gb_mse,gb_r2_score,gb_max_error,gb_pred= fit_and_evaluate(gradient_boosted,'gb')\n",
    "t1 = time()\n",
    "gb_t=t1-t0\n",
    "\n",
    "print('Gradient Boosted Regression Performance on the test set: \\n MAE = %0.4f' % gradient_boosted_mae,\n",
    "      \"\\n MSE = %0.4f \"% gb_mse,\n",
    "      \"\\n Max error = %0.4f \"% gb_r2_score,\n",
    "      \"\\n r2_sccore = %0.4f' \"% gb_max_error,\n",
    "      \"\\n time = %0.4f' \"% gb_t)"
   ]
  },
  {
   "cell_type": "code",
   "execution_count": 11,
   "metadata": {},
   "outputs": [
    {
     "name": "stdout",
     "output_type": "stream",
     "text": [
      "[ 5.  2. 10. ...  7.  5.  1.]\n",
      "K-NeighborsRegression Performance on the test set: \n",
      " MAE = 0.0932 \n",
      " MSE = 0.2506  \n",
      " Max error = 0.9724  \n",
      " r2_sccore = 9.0000'  \n",
      " time = 64.1869' \n",
      "CPU times: user 1min 4s, sys: 308 ms, total: 1min 4s\n",
      "Wall time: 1min 4s\n"
     ]
    }
   ],
   "source": [
    "%%time\n",
    "t0 = time()\n",
    "knn = KNeighborsRegressor(n_neighbors=10)\n",
    "knn_mae,knn_mse,knn_r2_score,knn_max_error,knn_pred = fit_and_evaluate(knn,'knn')\n",
    "t1 = time()\n",
    "knn_t=t1-t0\n",
    "print('K-NeighborsRegression Performance on the test set: \\n MAE = %0.4f' % knn_mae,\n",
    "      \"\\n MSE = %0.4f \"% knn_mse,\n",
    "      \"\\n Max error = %0.4f \"%knn_r2_score,\n",
    "      \"\\n r2_sccore = %0.4f' \"% knn_max_error, \n",
    "      \"\\n time = %0.4f' \"% knn_t)"
   ]
  },
  {
   "cell_type": "code",
   "execution_count": null,
   "metadata": {},
   "outputs": [],
   "source": []
  },
  {
   "cell_type": "code",
   "execution_count": null,
   "metadata": {},
   "outputs": [],
   "source": [
    "#without process lr MAE = 1.5687 svm MAE = 1.2624 random forest MAE = 0.4122 GB MAE = 0.9731  KNN MAE = 0.7794\n",
    "#without process lr MAE = 1.5356  svm MAE = 1.2192 random forest MAE = 0.3905 GB MAE =  0.9134  KNN MAE = 0.7670"
   ]
  },
  {
   "cell_type": "code",
   "execution_count": 12,
   "metadata": {},
   "outputs": [
    {
     "name": "stdout",
     "output_type": "stream",
     "text": [
      "2.537984028404262 0.03711525017622129 1.6920376983033443 0.09316957564752261\n",
      "0.20621323585510254 286.04032492637634 122.5078375339508 64.18692636489868\n"
     ]
    }
   ],
   "source": [
    "print(lr_mae, random_forest_mae, gradient_boosted_mae, knn_mae)\n",
    "print(lr_t, rf_t, gb_t, knn_t)\n",
    "\n",
    "#2.201003211178209 0.11234611537680582 1.062275800350447 0.18753431147676597\n",
    "#0.06550335884094238 59.31387782096863 18.222867965698242 37.90412163734436"
   ]
  },
  {
   "cell_type": "code",
   "execution_count": 13,
   "metadata": {},
   "outputs": [
    {
     "data": {
      "image/png": "[encoded data removed]",
      "text/plain": [
       "<Figure size 432x288 with 1 Axes>"
      ]
     },
     "metadata": {},
     "output_type": "display_data"
    }
   ],
   "source": [
    "dt = str(time())\n",
    "plt.style.use('fivethirtyeight')\n",
    "#figsize(8, 6)\n",
    "model_comparison = pd.DataFrame({'model': ['Linear Regression',#'Support Vector Machine',svm_mae, \n",
    "                                           'Random Forest', 'Gradient Boosted',\n",
    "                                            'K-Nearest Neighbors'],\n",
    "                                 'mae': [lr_mae, random_forest_mae, \n",
    "                                         gradient_boosted_mae, knn_mae]})\n",
    "\n",
    "# Horizontal bar chart of test mae\n",
    "model_comparison.sort_values('mae', ascending = False).plot(x = 'model', y = 'mae', kind = 'barh',\n",
    "                                                           color = 'green', edgecolor = 'black')\n",
    "\n",
    "# Plot formatting\n",
    "plt.ylabel(''); plt.yticks(size = 14); plt.xlabel('Mean Absolute Error'); plt.xticks(size = 14)\n",
    "\n",
    "plt.title('Model Comparison on Test MAE', size = 20);\n",
    "plt.savefig('./images/maedropna_withprocess'+dt+'.png',quality=100,dpi=500) "
   ]
  },
  {
   "cell_type": "code",
   "execution_count": null,
   "metadata": {},
   "outputs": [],
   "source": [
    "dt = str(time())\n",
    "\n",
    "plt.style.use('fivethirtyeight')\n",
    "\n",
    "time_comparison = pd.DataFrame({'model': ['Linear Regression',#'Support Vector Machine',svm_mae, \n",
    "                                           'Random Forest', 'Gradient Boosted',\n",
    "                                            'K-Nearest Neighbors'],\n",
    "                                 'mae': np.array([lr_t, rf_t, gb_t, knn_t]).astype(float)})\n",
    "\n",
    "time_comparison.sort_values('mae', ascending = False).plot(x = 'model', y = 'mae', kind = 'barh',\n",
    "                                                           color = 'green', edgecolor = 'black')\n",
    "\n",
    "# Plot formatting\n",
    "plt.ylabel(''); plt.yticks(size = 14); \n",
    "plt.xlabel('Time Comparison'); \n",
    "plt.xticks(size = 14)\n",
    "\n",
    "plt.title('Scikit Learn Time Comparison', size = 20);\n",
    "plt.savefig('./images/sk_time'+dt+'.png',quality=100,dpi=500) \n",
    "plt.show()"
   ]
  },
  {
   "cell_type": "code",
   "execution_count": null,
   "metadata": {},
   "outputs": [],
   "source": [
    "# Loss function to be optimized\n",
    "loss = ['ls', 'lad', 'huber']\n",
    "\n",
    "# Number of trees used in the boosting process\n",
    "n_estimators = [10,20,50,80,100, 500, 900, 1100, 1500]\n",
    "\n",
    "# Maximum depth of each tree\n",
    "max_depth = [2, 3, 5, 10, 15]\n",
    "\n",
    "# Minimum number of samples per leaf\n",
    "min_samples_leaf = [1, 2, 4, 6, 8]\n",
    "\n",
    "# Minimum number of samples to split a node\n",
    "min_samples_split = [2, 4, 6, 10]\n",
    "\n",
    "# Maximum number of features to consider for making splits\n",
    "max_features = ['auto', 'sqrt', 'log2', None]\n",
    "\n",
    "# Define the grid of hyperparameters to search\n",
    "hyperparameter_grid = {'loss': loss,\n",
    "                       'n_estimators': n_estimators,\n",
    "                       'max_depth': max_depth,\n",
    "                       'min_samples_leaf': min_samples_leaf,\n",
    "                       'min_samples_split': min_samples_split,\n",
    "                       'max_features': max_features}"
   ]
  },
  {
   "cell_type": "code",
   "execution_count": null,
   "metadata": {},
   "outputs": [],
   "source": [
    "# Create the model to use for hyperparameter tuning\n",
    "model = GradientBoostingRegressor(random_state = 42)\n",
    "\n",
    "# Set up the random search with 4-fold cross validation\n",
    "random_cv = RandomizedSearchCV(estimator=model,\n",
    "                               param_distributions=hyperparameter_grid,\n",
    "                               cv=4, n_iter=25, \n",
    "                               scoring = 'neg_mean_absolute_error',\n",
    "                               n_jobs = -1, verbose = 1, \n",
    "                               return_train_score = True,\n",
    "                               random_state=42)"
   ]
  },
  {
   "cell_type": "code",
   "execution_count": null,
   "metadata": {},
   "outputs": [],
   "source": [
    "# Fit on the training data\n",
    "t0 = time()\n",
    "random_cv.fit(X, y)\n",
    "t1 = time()\n",
    "print('Done learning {0:.3f} sec'.format(t1-t0))"
   ]
  },
  {
   "cell_type": "code",
   "execution_count": null,
   "metadata": {},
   "outputs": [],
   "source": [
    "# Get all of the cv results and sort by the test performance\n",
    "random_results = pd.DataFrame(random_cv.cv_results_).sort_values('mean_test_score', ascending = False)\n",
    "random_results.head(10)"
   ]
  },
  {
   "cell_type": "code",
   "execution_count": null,
   "metadata": {},
   "outputs": [],
   "source": [
    "random_cv.best_estimator_"
   ]
  },
  {
   "cell_type": "code",
   "execution_count": null,
   "metadata": {},
   "outputs": [],
   "source": [
    "# Create a range of trees to evaluate\n",
    "trees_grid = {'n_estimators': [10,20,50,70,100, 150, 200, 250, 300, 350, 400, 450, 500,\n",
    "                               550, 600, 650, 700, 750, 800,1000,1100,1200]}\n",
    "\n",
    "model = GradientBoostingRegressor(loss = 'lad', max_depth = 5,\n",
    "                                  min_samples_leaf = 6,\n",
    "                                  min_samples_split = 6,\n",
    "                                  max_features = None,\n",
    "                                  random_state = 42)\n",
    "\n",
    "# Grid Search Object using the trees range and the random forest model\n",
    "grid_search = GridSearchCV(estimator = model, param_grid=trees_grid, cv = 4, \n",
    "                           scoring = 'neg_mean_absolute_error', verbose = 1,\n",
    "                           n_jobs = -1, return_train_score = True)"
   ]
  },
  {
   "cell_type": "code",
   "execution_count": null,
   "metadata": {},
   "outputs": [],
   "source": [
    "# Fit the grid search\n",
    "grid_search.fit(X, y)"
   ]
  },
  {
   "cell_type": "code",
   "execution_count": null,
   "metadata": {},
   "outputs": [],
   "source": [
    "# Get the results into a dataframe\n",
    "results = pd.DataFrame(grid_search.cv_results_)\n",
    "# Plot the training and testing error vs number of trees\n",
    "figsize(8, 8)\n",
    "plt.style.use('fivethirtyeight')\n",
    "plt.plot(results['param_n_estimators'], -1 * results['mean_test_score'], label = 'Testing Error')\n",
    "plt.plot(results['param_n_estimators'], -1 * results['mean_train_score'], label = 'Training Error')\n",
    "plt.xlabel('Number of Trees'); plt.ylabel('Mean Abosolute Error'); plt.legend();\n",
    "plt.title('Performance vs Number of Trees');"
   ]
  },
  {
   "cell_type": "code",
   "execution_count": null,
   "metadata": {},
   "outputs": [],
   "source": [
    "results.sort_values('mean_test_score', ascending = False).head(5)"
   ]
  },
  {
   "cell_type": "code",
   "execution_count": null,
   "metadata": {},
   "outputs": [],
   "source": [
    "# Default model\n",
    "default_model = GradientBoostingRegressor(random_state = 42)\n",
    "\n",
    "# Select the best model\n",
    "final_model = grid_search.best_estimator_\n",
    "\n",
    "final_model"
   ]
  },
  {
   "cell_type": "code",
   "execution_count": null,
   "metadata": {},
   "outputs": [],
   "source": [
    "%%timeit -n 1 -r 5\n",
    "#https://ipython.readthedocs.io/en/stable/interactive/magics.html\n",
    "default_model.fit(X, y)"
   ]
  },
  {
   "cell_type": "code",
   "execution_count": null,
   "metadata": {},
   "outputs": [],
   "source": [
    "%%timeit -n 1 -r 5\n",
    "final_model.fit(X, y)"
   ]
  },
  {
   "cell_type": "code",
   "execution_count": null,
   "metadata": {},
   "outputs": [],
   "source": [
    "default_pred = default_model.predict(X_test)\n",
    "final_pred = final_model.predict(X_test)\n",
    "\n",
    "print('Default model performance on the test set: MAE = %0.4f.' % mae(y_test, default_pred))\n",
    "print('Final model performance on the test set:   MAE = %0.4f.' % mae(y_test, final_pred))"
   ]
  },
  {
   "cell_type": "code",
   "execution_count": null,
   "metadata": {},
   "outputs": [],
   "source": [
    "figsize(8, 8)\n",
    "\n",
    "# Density plot of the final predictions and the test values\n",
    "sns.kdeplot(final_pred, label = 'Predictions')\n",
    "sns.kdeplot(y_test, label = 'Values')\n",
    "\n",
    "plt.legend(bbox_to_anchor=(1, 0), loc='lower right', borderaxespad=1, fontsize=18)\n",
    "# Label the plot\n",
    "plt.xlabel('Location_No'); plt.ylabel('Density');\n",
    "plt.title('Test Values and Predictions');"
   ]
  },
  {
   "cell_type": "code",
   "execution_count": null,
   "metadata": {},
   "outputs": [],
   "source": [
    "figsize = (6, 6)\n",
    "\n",
    "# Calculate the residuals \n",
    "residuals = final_pred - y_test\n",
    "\n",
    "# Plot the residuals in a histogram\n",
    "plt.hist(residuals, color = 'red', bins = 20,\n",
    "         edgecolor = 'black')\n",
    "plt.xlabel('Error'); plt.ylabel('Count')\n",
    "plt.title('Distribution');\n",
    "#plt.title('Distribution of Residuals');"
   ]
  },
  {
   "cell_type": "code",
   "execution_count": null,
   "metadata": {},
   "outputs": [],
   "source": []
  },
  {
   "cell_type": "code",
   "execution_count": null,
   "metadata": {},
   "outputs": [],
   "source": []
  },
  {
   "cell_type": "code",
   "execution_count": null,
   "metadata": {},
   "outputs": [],
   "source": []
  },
  {
   "cell_type": "code",
   "execution_count": null,
   "metadata": {},
   "outputs": [],
   "source": [
    "print(np.where(~np.isfinite(X)))\n",
    "print(np.where(~np.isfinite(X_test)))"
   ]
  },
  {
   "cell_type": "code",
   "execution_count": null,
   "metadata": {},
   "outputs": [],
   "source": [
    "# Function to calculate accuracy\n",
    "def accracy(y_true, total):\n",
    "    true_positive_filter = (admissions[\"predicted_label\"] == 1) & (admissions[\"actual_label\"] == 1)\n",
    "    true_positives = len(admissions[true_positive_filter])\n",
    "    true_negative_filter = (admissions[\"predicted_label\"] == 0) & (admissions[\"actual_label\"] == 0)\n",
    "    true_negatives = len(admissions[true_negative_filter])\n",
    "    print(true_positives)\n",
    "    print(true_negatives)\n",
    "\n",
    "    \n",
    "# Function to calculate sensity\n",
    "def sensitivity(y_true, total):\n",
    "    true_positive_filter = (admissions[\"predicted_label\"] == 1) & (admissions[\"actual_label\"] == 1)\n",
    "    true_positives = len(admissions[true_positive_filter])\n",
    "    false_negative_filter = (admissions[\"predicted_label\"] == 0) & (admissions[\"actual_label\"] == 1)\n",
    "    false_negatives = len(admissions[false_negative_filter])\n",
    "    sensitivity = true_positives / float((true_positives + false_negatives))\n",
    "    print(sensitivity)\n",
    "\n",
    "# Function to calculate specificity \n",
    "def specificity():\n",
    "    true_positive_filter = (admissions[\"predicted_label\"] == 1) & (admissions[\"actual_label\"] == 1)\n",
    "    true_positives = len(admissions[true_positive_filter])\n",
    "    false_negative_filter = (admissions[\"predicted_label\"] == 0) & (admissions[\"actual_label\"] == 1)\n",
    "    false_negatives = len(admissions[false_negative_filter])\n",
    "    true_negative_filter = (admissions[\"predicted_label\"] == 0) & (admissions[\"actual_label\"] == 0)\n",
    "    true_negatives = len(admissions[true_negative_filter])\n",
    "    false_positive_filter = (admissions[\"predicted_label\"] == 1) & (admissions[\"actual_label\"] == 0)\n",
    "    false_positives = len(admissions[false_positive_filter])\n",
    "    specificity = (true_negatives) / float((false_positives + true_negatives))"
   ]
  },
  {
   "cell_type": "code",
   "execution_count": null,
   "metadata": {},
   "outputs": [],
   "source": [
    "def plot_confusion_matrix(cm,title):\n",
    "    cmap=plt.cm.Blues\n",
    "    leng=len(cm)\n",
    "    classes=np.arange(1, leng+1)\n",
    "    dt = str(time())\n",
    "    print(classes)\n",
    "    #harvest = np.random.randint(4, 10, (10, 10))\n",
    "    fig, ax = plt.subplots()\n",
    "    im = ax.imshow(cm,cmap=\"YlGnBu\",vmin=0, vmax=500)\n",
    "    sns.set_theme()\n",
    "    #im = sns.heatmap(cm,linewidths=.5,cmap=cmap, vmin=0, vmax=500)\n",
    "    sticks=np.arange(0,len(classes))\n",
    "\n",
    "    # We want to show all ticks...\n",
    "    ax.set_xticks(sticks)\n",
    "    ax.set_yticks(sticks)\n",
    "    #axes.set_xticklabels([\"A\", \"B\", \"C\", \"D\", \"E\"])\n",
    "    #ax.set_yticks(classes)\n",
    "    # ... and label them with the respective list entries\n",
    "    ax.set_xticklabels(classes)\n",
    "    ax.set_yticklabels(classes)\n",
    "    \n",
    "    #thresh = cm.max() / 10.\n",
    "\n",
    "    # Rotate the tick labels and set their alignment.\n",
    "    plt.setp(ax.get_xticklabels(), rotation=45, ha=\"right\",\n",
    "             rotation_mode=\"anchor\")\n",
    "\n",
    "    # Loop over data dimensions and create text annotations.\n",
    "    for i in sticks:\n",
    "        for j in sticks:\n",
    "            text = ax.text(j, i, cm[i, j],ha=\"center\", va=\"center\",fontsize=10)\n",
    "\n",
    "    ax.set_title(title)\n",
    "    fig.tight_layout()\n",
    "    plt.savefig('./images/maedropna_withprocess'+title+dt+'.png',quality=100,dpi=500) \n",
    "    plt.show()"
   ]
  },
  {
   "cell_type": "code",
   "execution_count": null,
   "metadata": {},
   "outputs": [],
   "source": [
    "knn_cnf_matrix= make_confusion_matrix(y_test, knn_pred)\n",
    "print(knn_cnf_matrix)\n",
    "plt.figure(figsize=(8,10))\n",
    "plot_confusion_matrix(knn_cnf_matrix, title='KNN Confusion matrix')\n",
    "plt.show()"
   ]
  },
  {
   "cell_type": "code",
   "execution_count": null,
   "metadata": {},
   "outputs": [],
   "source": [
    "rf_cnf_matrix= make_confusion_matrix(y_test, rf_pred)\n",
    "print(rf_cnf_matrix)\n",
    "plt.figure(figsize=(6,8))\n",
    "plot_confusion_matrix(rf_cnf_matrix, title='RF Confusion matrix')\n",
    "plt.show()"
   ]
  },
  {
   "cell_type": "code",
   "execution_count": null,
   "metadata": {},
   "outputs": [],
   "source": [
    "gb_cnf_matrix= make_confusion_matrix(y_test, gb_pred)\n",
    "gb_cnf_matrix=gb_cnf_matrix[:10,:10]\n",
    "print(gb_cnf_matrix)\n",
    "plt.figure(figsize=(6,8))\n",
    "plot_confusion_matrix(gb_cnf_matrix, title='GB Confusion matrix')\n",
    "plt.show()"
   ]
  },
  {
   "cell_type": "code",
   "execution_count": null,
   "metadata": {},
   "outputs": [],
   "source": [
    "lr_cnf_matrix= make_confusion_matrix(y_test, lr_pred)\n",
    "print(np.unique(lr_pred))\n",
    "\n",
    "lr_cnf_matrix=lr_cnf_matrix[:10,:10]\n",
    "print(lr_cnf_matrix)\n",
    "plt.figure(figsize=(6,8))\n",
    "plot_confusion_matrix(lr_cnf_matrix, title='LR Confusion matrix')\n",
    "plt.show()\n",
    "# pd.crosstab(test[\"Label\"], predictions, rownames=[\"Actual\"], colnames=[\"Predicted\"])"
   ]
  },
  {
   "cell_type": "code",
   "execution_count": null,
   "metadata": {},
   "outputs": [],
   "source": []
  }
 ],
 "metadata": {
  "kernelspec": {
   "display_name": "Python 3",
   "language": "python",
   "name": "python3"
  },
  "language_info": {
   "codemirror_mode": {
    "name": "ipython",
    "version": 3
   },
   "file_extension": ".py",
   "mimetype": "text/x-python",
   "name": "python",
   "nbconvert_exporter": "python",
   "pygments_lexer": "ipython3",
   "version": "3.8.8"
  },
  "toc": {
   "base_numbering": 1,
   "nav_menu": {},
   "number_sections": true,
   "sideBar": true,
   "skip_h1_title": false,
   "title_cell": "Table of Contents",
   "title_sidebar": "Contents",
   "toc_cell": false,
   "toc_position": {},
   "toc_section_display": true,
   "toc_window_display": false
  },
  "varInspector": {
   "cols": {
    "lenName": 16,
    "lenType": 16,
    "lenVar": 40
   },
   "kernels_config": {
    "python": {
     "delete_cmd_postfix": "",
     "delete_cmd_prefix": "del ",
     "library": "var_list.py",
     "varRefreshCmd": "print(var_dic_list())"
    },
    "r": {
     "delete_cmd_postfix": ") ",
     "delete_cmd_prefix": "rm(",
     "library": "var_list.r",
     "varRefreshCmd": "cat(var_dic_list()) "
    }
   },
   "oldHeight": 386,
   "position": {
    "height": "40px",
    "left": "775px",
    "right": "20px",
    "top": "68px",
    "width": "658px"
   },
   "types_to_exclude": [
    "module",
    "function",
    "builtin_function_or_method",
    "instance",
    "_Feature"
   ],
   "varInspector_section_display": "none",
   "window_display": false
  }
 },
 "nbformat": 4,
 "nbformat_minor": 4
}
