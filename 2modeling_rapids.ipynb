{
 "cells": [
  {
   "cell_type": "code",
   "execution_count": 1,
   "metadata": {},
   "outputs": [],
   "source": [
    "# Pandas and numpy for data manipulation\n",
    "import pandas as pd\n",
    "import numpy as np\n",
    "from time import time\n",
    "import matplotlib.pyplot as plt\n",
    "%matplotlib inline\n",
    "\n",
    "import cudf\n",
    "\n",
    "import pickle\n",
    "import cupy as cp\n",
    "\n",
    "from cuml.ensemble import RandomForestRegressor as curfr\n",
    "#from cuml.ensemble import GradientBoostingRegressor as cugbr\n",
    "from cuml.linear_model import LinearRegression as cuLinearRegression\n",
    "from cuml.svm import SVR, SVC\n",
    "from cuml.linear_model import LogisticRegression as cuLogRe\n",
    "from cuml.linear_model import MBSGDClassifier as cumlMBSGDClassifier\n",
    "from cuml.linear_model import MBSGDRegressor as cumlMBSGDRegressor\n",
    "from cuml.solvers import SGD as cumlSGD\n",
    "\n",
    "from cuml.neighbors import KNeighborsRegressor\n",
    "\n",
    "from cuml.experimental.preprocessing import SimpleImputer\n",
    "from cuml.experimental.preprocessing import StandardScaler,MinMaxScaler\n",
    "from cuml.metrics.regression import r2_score\n",
    "from cuml.metrics.regression import mean_absolute_error,mean_squared_error\n",
    "from cuml.metrics import accuracy_score\n",
    "\n",
    "from cuml.cluster import DBSCAN\n",
    "\n",
    "from sklearn.metrics import f1_score,confusion_matrix\n",
    "\n",
    "from dask_cuda import LocalCUDACluster\n",
    "import dask_cudf\n",
    "\n",
    "from cuml.dask.common import utils as dask_utils\n",
    "from dask.distributed import Client, wait\n",
    "\n",
    "from sklearn.preprocessing import scale\n",
    "\n",
    "import seaborn as sns\n",
    "sns.set(font_scale = 2)\n",
    "\n",
    "import xgboost as xgb\n"
   ]
  },
  {
   "cell_type": "code",
   "execution_count": 2,
   "metadata": {},
   "outputs": [
    {
     "name": "stdout",
     "output_type": "stream",
     "text": [
      "Training Feature Size:  (804384, 9)\n",
      "Testing Feature Size:   (344737, 9)\n",
      "Training Labels Size:   (804384, 1)\n",
      "Testing Labels Size:    (344737, 1)\n",
      "CPU times: user 2.82 s, sys: 1.28 s, total: 4.09 s\n",
      "Wall time: 6.42 s\n"
     ]
    }
   ],
   "source": [
    "%%time\n",
    "# train_features = cudf.read_csv('DB/new_data/training_features.csv')\n",
    "# test_features=cudf.read_csv('DB/new_data/testing_features.csv')\n",
    "# train_labels=cudf.read_csv('DB/new_data/training_labels.csv')\n",
    "# test_labels=cudf.read_csv('DB/new_data/testing_labels.csv')\n",
    "\n",
    "train_features=cudf.read_csv('DB/data_fill/training_features.csv')\n",
    "test_features=cudf.read_csv('DB/data_fill/testing_features.csv')\n",
    "train_labels=cudf.read_csv('DB/data_fill/training_labels.csv')\n",
    "test_labels=cudf.read_csv('DB/data_fill/testing_labels.csv')\n",
    "\n",
    "\n",
    "print('Training Feature Size: ', train_features.shape)\n",
    "print('Testing Feature Size:  ', test_features.shape)\n",
    "print('Training Labels Size:  ', train_labels.shape)\n",
    "print('Testing Labels Size:   ', test_labels.shape)"
   ]
  },
  {
   "cell_type": "code",
   "execution_count": 3,
   "metadata": {},
   "outputs": [
    {
     "data": {
      "text/html": [
       "<div>\n",
       "<style scoped>\n",
       "    .dataframe tbody tr th:only-of-type {\n",
       "        vertical-align: middle;\n",
       "    }\n",
       "\n",
       "    .dataframe tbody tr th {\n",
       "        vertical-align: top;\n",
       "    }\n",
       "\n",
       "    .dataframe thead th {\n",
       "        text-align: right;\n",
       "    }\n",
       "</style>\n",
       "<table border=\"1\" class=\"dataframe\">\n",
       "  <thead>\n",
       "    <tr style=\"text-align: right;\">\n",
       "      <th></th>\n",
       "      <th>temperature</th>\n",
       "      <th>humidity</th>\n",
       "      <th>light</th>\n",
       "      <th>pressure</th>\n",
       "      <th>weekday</th>\n",
       "      <th>quarter</th>\n",
       "      <th>month</th>\n",
       "      <th>hour</th>\n",
       "    </tr>\n",
       "  </thead>\n",
       "  <tbody>\n",
       "    <tr>\n",
       "      <th>0</th>\n",
       "      <td>21.000000</td>\n",
       "      <td>49.000000</td>\n",
       "      <td>0.486400</td>\n",
       "      <td>1029.189345</td>\n",
       "      <td>2</td>\n",
       "      <td>4</td>\n",
       "      <td>11</td>\n",
       "      <td>10</td>\n",
       "    </tr>\n",
       "    <tr>\n",
       "      <th>1</th>\n",
       "      <td>26.418382</td>\n",
       "      <td>43.737592</td>\n",
       "      <td>74.076609</td>\n",
       "      <td>1008.463713</td>\n",
       "      <td>3</td>\n",
       "      <td>3</td>\n",
       "      <td>9</td>\n",
       "      <td>20</td>\n",
       "    </tr>\n",
       "    <tr>\n",
       "      <th>2</th>\n",
       "      <td>22.207622</td>\n",
       "      <td>47.807888</td>\n",
       "      <td>2.432000</td>\n",
       "      <td>996.281490</td>\n",
       "      <td>4</td>\n",
       "      <td>1</td>\n",
       "      <td>3</td>\n",
       "      <td>14</td>\n",
       "    </tr>\n",
       "    <tr>\n",
       "      <th>3</th>\n",
       "      <td>18.000000</td>\n",
       "      <td>44.000000</td>\n",
       "      <td>2.432000</td>\n",
       "      <td>1015.782503</td>\n",
       "      <td>2</td>\n",
       "      <td>1</td>\n",
       "      <td>3</td>\n",
       "      <td>1</td>\n",
       "    </tr>\n",
       "    <tr>\n",
       "      <th>4</th>\n",
       "      <td>21.720532</td>\n",
       "      <td>59.944791</td>\n",
       "      <td>2.432000</td>\n",
       "      <td>1011.012292</td>\n",
       "      <td>6</td>\n",
       "      <td>2</td>\n",
       "      <td>5</td>\n",
       "      <td>4</td>\n",
       "    </tr>\n",
       "    <tr>\n",
       "      <th>5</th>\n",
       "      <td>26.363619</td>\n",
       "      <td>55.828613</td>\n",
       "      <td>46.910056</td>\n",
       "      <td>1009.363670</td>\n",
       "      <td>7</td>\n",
       "      <td>3</td>\n",
       "      <td>7</td>\n",
       "      <td>22</td>\n",
       "    </tr>\n",
       "    <tr>\n",
       "      <th>6</th>\n",
       "      <td>19.477142</td>\n",
       "      <td>31.743955</td>\n",
       "      <td>2.432000</td>\n",
       "      <td>1008.765233</td>\n",
       "      <td>2</td>\n",
       "      <td>1</td>\n",
       "      <td>3</td>\n",
       "      <td>15</td>\n",
       "    </tr>\n",
       "    <tr>\n",
       "      <th>7</th>\n",
       "      <td>29.197552</td>\n",
       "      <td>63.902686</td>\n",
       "      <td>17.388716</td>\n",
       "      <td>1012.552965</td>\n",
       "      <td>6</td>\n",
       "      <td>3</td>\n",
       "      <td>7</td>\n",
       "      <td>23</td>\n",
       "    </tr>\n",
       "    <tr>\n",
       "      <th>8</th>\n",
       "      <td>21.000000</td>\n",
       "      <td>44.000000</td>\n",
       "      <td>0.972800</td>\n",
       "      <td>1001.165509</td>\n",
       "      <td>3</td>\n",
       "      <td>2</td>\n",
       "      <td>4</td>\n",
       "      <td>7</td>\n",
       "    </tr>\n",
       "    <tr>\n",
       "      <th>9</th>\n",
       "      <td>15.190000</td>\n",
       "      <td>44.990000</td>\n",
       "      <td>0.000000</td>\n",
       "      <td>1021.940000</td>\n",
       "      <td>7</td>\n",
       "      <td>4</td>\n",
       "      <td>12</td>\n",
       "      <td>8</td>\n",
       "    </tr>\n",
       "  </tbody>\n",
       "</table>\n",
       "</div>"
      ],
      "text/plain": [
       "   temperature   humidity      light     pressure  weekday  quarter  month  \\\n",
       "0    21.000000  49.000000   0.486400  1029.189345        2        4     11   \n",
       "1    26.418382  43.737592  74.076609  1008.463713        3        3      9   \n",
       "2    22.207622  47.807888   2.432000   996.281490        4        1      3   \n",
       "3    18.000000  44.000000   2.432000  1015.782503        2        1      3   \n",
       "4    21.720532  59.944791   2.432000  1011.012292        6        2      5   \n",
       "5    26.363619  55.828613  46.910056  1009.363670        7        3      7   \n",
       "6    19.477142  31.743955   2.432000  1008.765233        2        1      3   \n",
       "7    29.197552  63.902686  17.388716  1012.552965        6        3      7   \n",
       "8    21.000000  44.000000   0.972800  1001.165509        3        2      4   \n",
       "9    15.190000  44.990000   0.000000  1021.940000        7        4     12   \n",
       "\n",
       "   hour  \n",
       "0    10  \n",
       "1    20  \n",
       "2    14  \n",
       "3     1  \n",
       "4     4  \n",
       "5    22  \n",
       "6    15  \n",
       "7    23  \n",
       "8     7  \n",
       "9     8  "
      ]
     },
     "execution_count": 3,
     "metadata": {},
     "output_type": "execute_result"
    }
   ],
   "source": [
    "train_features.head(10)\n",
    "if 'new_tsp' in train_features.columns:\n",
    "    train_features=train_features.drop('new_tsp', axis=1)\n",
    "if 'new_tsp' in test_features.columns:\n",
    "    test_features=test_features.drop('new_tsp', axis=1)\n",
    "train_features.head(10)"
   ]
  },
  {
   "cell_type": "code",
   "execution_count": 4,
   "metadata": {},
   "outputs": [],
   "source": [
    "imputer = SimpleImputer(missing_values=cp.nan, strategy='median')\n",
    "imputer.fit(train_features)\n",
    "\n",
    "#print(train_features.type)\n",
    "#scaler = StandardScaler()\n",
    "X = imputer.transform(train_features)\n",
    "X_test = imputer.transform(test_features)\n",
    "\n",
    "scaler = MinMaxScaler(feature_range=(0, 1))\n",
    "# Fit on the training data\n",
    "scaler.fit(X)\n",
    "scaler.fit(X_test)\n",
    "\n",
    "# Transform both the training and testing data\n",
    "X = cudf.DataFrame(scaler.transform(X))\n",
    "X_test = cudf.DataFrame(scaler.transform(X_test))\n",
    "\n",
    "# y = train_labels.as_matrix().reshape(-1,1)\n",
    "# y = scaler.fit_transform(y).flatten()\n",
    "# y_test= test_labels.as_matrix().reshape(-1,1)\n",
    "# y_test = scaler.fit_transform(y_test).flatten()\n",
    "y = cudf.Series(train_labels.values)\n",
    "y_test= cudf.Series(test_labels.values)"
   ]
  },
  {
   "cell_type": "code",
   "execution_count": 5,
   "metadata": {},
   "outputs": [
    {
     "data": {
      "text/plain": [
       "0    10\n",
       "1     1\n",
       "2     5\n",
       "3     4\n",
       "4     9\n",
       "5     1\n",
       "6     5\n",
       "7     9\n",
       "8     6\n",
       "9     8\n",
       "dtype: int64"
      ]
     },
     "execution_count": 5,
     "metadata": {},
     "output_type": "execute_result"
    }
   ],
   "source": [
    "y.head(10)"
   ]
  },
  {
   "cell_type": "code",
   "execution_count": 6,
   "metadata": {},
   "outputs": [],
   "source": [
    "y_test=y_test.astype(np.float32)\n",
    "X_test=X_test.astype(np.float32)\n",
    "X=X.astype(np.float32)\n",
    "y=y.astype(np.float32)\n",
    "\n",
    "result_pd=pd.DataFrame()"
   ]
  },
  {
   "cell_type": "markdown",
   "metadata": {},
   "source": [
    "Linear Regression\n",
    "\n",
    "Support Vector Machine Regression\n",
    "\n",
    "Random Forest Regression\n",
    "\n",
    "Gradient Boosting Regression\n",
    "\n",
    "K-Nearest Neighbors Regression"
   ]
  },
  {
   "cell_type": "code",
   "execution_count": 7,
   "metadata": {},
   "outputs": [],
   "source": [
    "def pro_pred(y_pred):\n",
    "    propre=np.round(y_pred)\n",
    "    return propre\n",
    "\n",
    "def addToResult(result_pd,pred,model_name):\n",
    "    #global re_pd\n",
    "    #print(pred_re.type)\n",
    "    #pred_re=pred_re.set_index(name=model_name)\n",
    "    #print(pred_re.columns)\n",
    "    #pred_re.columns=[model_name]\n",
    "    pred=pd.DataFrame({model_name:pred.to_array()})\n",
    "    re_pd= pd.concat([result_pd,pred],axis=1)\n",
    "    return re_pd\n",
    "\n",
    "# Takes in a model, trains the model, and evaluates the model on the test set\n",
    "def fit_and_evaluate(model,filename):\n",
    "    global y_test\n",
    "    global X_test\n",
    "    global X\n",
    "    global y\n",
    "    \n",
    "    # Train the model\n",
    "    model.fit(X, y)\n",
    "    # Make predictions and evalute\n",
    "    \n",
    "    model_pred = model.predict(X_test,convert_dtype=True)\n",
    "    model_pred=pro_pred(model_pred)\n",
    "    \n",
    "    #model_mae = mean_absolute_error(y_test.astype(np.float32), model_pred.astype(np.float32))\n",
    "    model_mae = mean_absolute_error(y_test, model_pred)\n",
    "    model_mse = mean_squared_error(y_test, model_pred)\n",
    "\n",
    "    # Compute confusion matrix\n",
    "    #print(cnf_matrix)\n",
    "    model_r2_score= r2_score(y_test, model_pred)\n",
    "    #model_max_error= max_error(y_test, model_pred)\n",
    "    #print(model_pred)\n",
    "    # save the model to disk\n",
    "    filename = 'stored_model/'+filename+'.sav'\n",
    "    pickle.dump(model, open(filename, 'wb'))\n",
    "    return model_pred, model_mae, model_mse,model_r2_score\n",
    "\n",
    "def fit_and_predict(model,filename):\n",
    "    global y_test\n",
    "    global X_test\n",
    "    global X\n",
    "    global y\n",
    "    # Train the model\n",
    "    model.fit(X, y)\n",
    "    # Make predictions and evalute\n",
    "    model_pred = model.predict(X_test,convert_dtype=True)\n",
    "    model_pred=pro_pred(model_pred)\n",
    "    \n",
    "    filename = 'stored_model/'+filename+'.sav'\n",
    "    pickle.dump(model, open(filename, 'wb'))\n",
    "    return model_pred\n",
    "\n",
    "def evaluate(y_test, model_pred):  \n",
    "    #model_pred=pro_pred(model_pred)\n",
    "    #model_mae = mean_absolute_error(y_test.astype(np.float32), model_pred.astype(np.float32))\n",
    "    model_mae = mean_absolute_error(y_test, model_pred)\n",
    "    model_mse = mean_squared_error(y_test, model_pred)\n",
    "    model_r2_score= r2_score(y_test, model_pred)\n",
    "    return model_mae, model_mse,model_r2_score"
   ]
  },
  {
   "cell_type": "code",
   "execution_count": 12,
   "metadata": {},
   "outputs": [
    {
     "name": "stdout",
     "output_type": "stream",
     "text": [
      "[E] [00:33:15.101693] L-BFGS line search failed\n",
      "LogisticRegression Performance on the test set: \n",
      " MAE = 3.0818 \n",
      " MSE = 17.2191  \n",
      " r2_sccore = -0.8956'  \n",
      " time = 1.2915' \n",
      "CPU times: user 904 ms, sys: 392 ms, total: 1.3 s\n",
      "Wall time: 1.29 s\n"
     ]
    }
   ],
   "source": [
    "%%time\n",
    "t0 = time()\n",
    "logRe_cuml = cuLogRe()\n",
    "#logRe_pred, logRe_mae,logRe_mse,logRe_r2_score= fit_and_evaluate(logRe_cuml,'logRe_cmul_full')\n",
    "logRe_pred= fit_and_predict(logRe_cuml,'logRe_cmul_full')\n",
    "logRe_mae,logRe_mse,logRe_r2_score=evaluate(y_test, logRe_pred)\n",
    "\n",
    "\n",
    "t1 = time()\n",
    "logRe_t=t1-t0\n",
    "\n",
    "print('LogisticRegression Performance on the test set: \\n MAE = %0.4f' % logRe_mae,\n",
    "      \"\\n MSE = %0.4f \"% logRe_mse,\n",
    "      \"\\n r2_sccore = %0.4f' \"% logRe_r2_score,   \n",
    "      \"\\n time = %0.4f' \"% logRe_t)"
   ]
  },
  {
   "cell_type": "code",
   "execution_count": 82,
   "metadata": {},
   "outputs": [],
   "source": [
    "result_pd=addToResult(result_pd,logRe_pred,'LogisticRegression')"
   ]
  },
  {
   "cell_type": "code",
   "execution_count": 83,
   "metadata": {},
   "outputs": [],
   "source": [
    "result_pd=addToResult(result_pd,lr_pred,'Linear Regression')"
   ]
  },
  {
   "cell_type": "code",
   "execution_count": 85,
   "metadata": {},
   "outputs": [],
   "source": [
    "result_pd=addToResult(result_pd,cu_sgd_pred,'MBSGD')"
   ]
  },
  {
   "cell_type": "code",
   "execution_count": 120,
   "metadata": {},
   "outputs": [
    {
     "name": "stdout",
     "output_type": "stream",
     "text": [
      "Linear Regression Performance on the test set: \n",
      " MAE = 2.5380 \n",
      " MSE = 8.8982  \n",
      " r2_sccore = 0.0204'  \n",
      " time = 0.0245' \n",
      "CPU times: user 20 ms, sys: 8 ms, total: 28 ms\n",
      "Wall time: 24.7 ms\n"
     ]
    }
   ],
   "source": [
    "%%time\n",
    "t0 = time()\n",
    "lr_cuml = cuLinearRegression(fit_intercept=True,\n",
    "                              normalize=True,\n",
    "                              algorithm='eig')\n",
    "#lr_pred, lr_mae,lr_mse,lr_r2_score= fit_and_evaluate(lr_cuml,'lr_cmul_full')\n",
    "\n",
    "lr_pred= fit_and_predict(lr_cuml,'lr_cmul_full')\n",
    "lr_mae,lr_mse,lr_r2_score=evaluate(y_test, lr_pred)\n",
    "\n",
    "t1 = time()\n",
    "lr_t=t1-t0\n",
    "\n",
    "print('Linear Regression Performance on the test set: \\n MAE = %0.4f' % lr_mae,\n",
    "      \"\\n MSE = %0.4f \"% lr_mse,\n",
    "      \"\\n r2_sccore = %0.4f' \"% lr_r2_score,   \n",
    "      \"\\n time = %0.4f' \"% lr_t)"
   ]
  },
  {
   "cell_type": "code",
   "execution_count": 17,
   "metadata": {},
   "outputs": [
    {
     "name": "stdout",
     "output_type": "stream",
     "text": [
      "Stochastic Gradient Descent Performance on the test set: \n",
      " MAE = 2.5430 \n",
      " MSE = 8.9065  \n",
      " r2_sccore = 0.0195'  \n",
      " time = 2995.5147' \n",
      "CPU times: user 44min 43s, sys: 5min 57s, total: 50min 40s\n",
      "Wall time: 49min 55s\n"
     ]
    }
   ],
   "source": [
    "%%time\n",
    "\n",
    "#from cuml.linear_model import MBSGDClassifier as cumlMBSGDClassifierbatch_size为2的倍数\n",
    "t0 = time()\n",
    "\n",
    "#learning_rate='optimal' not supported!!!\n",
    "cu_sgd = cumlSGD(learning_rate='constant', eta0=0.01, epochs=2000,\n",
    "                fit_intercept=True, batch_size=32,\n",
    "                tol=0.0, penalty='none', loss='squared_loss')\n",
    "\n",
    "\n",
    "cu_sgd_pred= fit_and_predict(cu_sgd,'cu_sgd_cmul_full')\n",
    "cu_sgd_mae,cu_sgd_mse,cu_sgd_r2_score=evaluate(y_test, cu_sgd_pred)\n",
    "#cusgd_pred = cu_sgd.predict(X_test).to_array()\n",
    "\n",
    "t1 = time()\n",
    "cusgd_t=t1-t0\n",
    "\n",
    "# print(cusgd_pred)\n",
    "# cusgd_mae = mean_absolute_error(y_test, np.round(cusgd_pred))\n",
    "# cusgd_mse = mean_squared_error(y_test, np.round(cusgd_pred))\n",
    "# cusgd_r2_score= r2_score(y_test, np.round(cusgd_pred))\n",
    "\n",
    "print('Stochastic Gradient Descent Performance on the test set: \\n MAE = %0.4f' % cu_sgd_mae,\n",
    "      \"\\n MSE = %0.4f \"% cu_sgd_mse,\n",
    "      \"\\n r2_sccore = %0.4f' \"% cu_sgd_r2_score,   \n",
    "      \"\\n time = %0.4f' \"% cusgd_t)"
   ]
  },
  {
   "cell_type": "code",
   "execution_count": 18,
   "metadata": {},
   "outputs": [
    {
     "name": "stdout",
     "output_type": "stream",
     "text": [
      "cumlMBSGDClassifier Performance on the test set: \n",
      " MAE = 2.5831 \n",
      " MSE = 9.1539  \n",
      " r2_sccore = -0.0077'  \n",
      " time = 1930.8243' \n",
      "CPU times: user 29min 24s, sys: 3min 27s, total: 32min 51s\n",
      "Wall time: 32min 10s\n"
     ]
    }
   ],
   "source": [
    "%%time\n",
    "\n",
    "#from cuml.linear_model import MBSGDClassifier as cumlMBSGDClassifier\n",
    "t0 = time()\n",
    "\n",
    "cu_mbsgd_classifier = cumlMBSGDClassifier(learning_rate='constant', eta0=0.01, epochs=2000,\n",
    "                                        fit_intercept=True,\n",
    "                                        batch_size=64, tol=0.0,\n",
    "                                        penalty='l2',\n",
    "                                        loss='squared_loss',\n",
    "                                        alpha=0.5)\n",
    "\n",
    "cu_mbsgdC_pred= fit_and_predict(cu_mbsgd_regressor,'cu_sgd_cmul_full')\n",
    "cu_mbsgdC_mae,cu_mbsgdC_mse,cu_mbsgdC_r2_score=evaluate(y_test, mbsgdR_pred)\n",
    "\n",
    "# cu_mbsgd_regressor.fit(X, y)\n",
    "# mbsgdR_pred = cu_mbsgd_regressor.predict(X_test).to_array()\n",
    "\n",
    "t1 = time()\n",
    "cu_mbsgdC_t=t1-t0\n",
    "\n",
    "\n",
    "# mbsgdR_mae = mean_absolute_error(y_test, np.round(mbsgdR_pred))\n",
    "# mbsgdR_mse = mean_squared_error(y_test, np.round(mbsgdR_pred))\n",
    "# mbsgdR_r2_score= r2_score(y_test, np.round(mbsgdR_pred))\n",
    "print('cumlMBSGDClassifier Performance on the test set: \\n MAE = %0.4f' % cu_mbsgdC_mae,\n",
    "      \"\\n MSE = %0.4f \"% cu_mbsgdC_mse,\n",
    "      \"\\n r2_sccore = %0.4f' \"% cu_mbsgdC_r2_score,   \n",
    "      \"\\n time = %0.4f' \"% cu_mbsgdC_t)\n",
    "\n",
    "result_pd=addToResult(result_pd,cu_mbsgdC_pred,'MBSGD_C')"
   ]
  },
  {
   "cell_type": "code",
   "execution_count": 88,
   "metadata": {},
   "outputs": [
    {
     "data": {
      "text/html": [
       "<div>\n",
       "<style scoped>\n",
       "    .dataframe tbody tr th:only-of-type {\n",
       "        vertical-align: middle;\n",
       "    }\n",
       "\n",
       "    .dataframe tbody tr th {\n",
       "        vertical-align: top;\n",
       "    }\n",
       "\n",
       "    .dataframe thead th {\n",
       "        text-align: right;\n",
       "    }\n",
       "</style>\n",
       "<table border=\"1\" class=\"dataframe\">\n",
       "  <thead>\n",
       "    <tr style=\"text-align: right;\">\n",
       "      <th></th>\n",
       "      <th>0</th>\n",
       "      <th>0</th>\n",
       "      <th>0</th>\n",
       "      <th>0</th>\n",
       "      <th>0</th>\n",
       "      <th>0</th>\n",
       "      <th>lr</th>\n",
       "      <th>Linear Regression</th>\n",
       "      <th>LogisticRegression</th>\n",
       "      <th>Linear Regression</th>\n",
       "      <th>MBSGD</th>\n",
       "      <th>MBSGD_C</th>\n",
       "      <th>MBSGD_R</th>\n",
       "      <th>MBSGD_R</th>\n",
       "    </tr>\n",
       "  </thead>\n",
       "  <tbody>\n",
       "    <tr>\n",
       "      <th>0</th>\n",
       "      <td>8.0</td>\n",
       "      <td>8.0</td>\n",
       "      <td>8.0</td>\n",
       "      <td>8.0</td>\n",
       "      <td>8.0</td>\n",
       "      <td>8.0</td>\n",
       "      <td>6.0</td>\n",
       "      <td>6.0</td>\n",
       "      <td>7.0</td>\n",
       "      <td>6.0</td>\n",
       "      <td>6.0</td>\n",
       "      <td>6.0</td>\n",
       "      <td>6.0</td>\n",
       "      <td>6.0</td>\n",
       "    </tr>\n",
       "    <tr>\n",
       "      <th>1</th>\n",
       "      <td>5.0</td>\n",
       "      <td>5.0</td>\n",
       "      <td>5.0</td>\n",
       "      <td>5.0</td>\n",
       "      <td>5.0</td>\n",
       "      <td>5.0</td>\n",
       "      <td>5.0</td>\n",
       "      <td>5.0</td>\n",
       "      <td>4.0</td>\n",
       "      <td>5.0</td>\n",
       "      <td>5.0</td>\n",
       "      <td>6.0</td>\n",
       "      <td>6.0</td>\n",
       "      <td>6.0</td>\n",
       "    </tr>\n",
       "    <tr>\n",
       "      <th>2</th>\n",
       "      <td>8.0</td>\n",
       "      <td>8.0</td>\n",
       "      <td>8.0</td>\n",
       "      <td>8.0</td>\n",
       "      <td>8.0</td>\n",
       "      <td>8.0</td>\n",
       "      <td>7.0</td>\n",
       "      <td>7.0</td>\n",
       "      <td>7.0</td>\n",
       "      <td>7.0</td>\n",
       "      <td>7.0</td>\n",
       "      <td>6.0</td>\n",
       "      <td>6.0</td>\n",
       "      <td>6.0</td>\n",
       "    </tr>\n",
       "    <tr>\n",
       "      <th>3</th>\n",
       "      <td>5.0</td>\n",
       "      <td>5.0</td>\n",
       "      <td>5.0</td>\n",
       "      <td>5.0</td>\n",
       "      <td>5.0</td>\n",
       "      <td>5.0</td>\n",
       "      <td>7.0</td>\n",
       "      <td>7.0</td>\n",
       "      <td>4.0</td>\n",
       "      <td>7.0</td>\n",
       "      <td>7.0</td>\n",
       "      <td>6.0</td>\n",
       "      <td>6.0</td>\n",
       "      <td>6.0</td>\n",
       "    </tr>\n",
       "    <tr>\n",
       "      <th>4</th>\n",
       "      <td>8.0</td>\n",
       "      <td>8.0</td>\n",
       "      <td>8.0</td>\n",
       "      <td>8.0</td>\n",
       "      <td>8.0</td>\n",
       "      <td>8.0</td>\n",
       "      <td>5.0</td>\n",
       "      <td>5.0</td>\n",
       "      <td>8.0</td>\n",
       "      <td>5.0</td>\n",
       "      <td>5.0</td>\n",
       "      <td>6.0</td>\n",
       "      <td>6.0</td>\n",
       "      <td>6.0</td>\n",
       "    </tr>\n",
       "    <tr>\n",
       "      <th>...</th>\n",
       "      <td>...</td>\n",
       "      <td>...</td>\n",
       "      <td>...</td>\n",
       "      <td>...</td>\n",
       "      <td>...</td>\n",
       "      <td>...</td>\n",
       "      <td>...</td>\n",
       "      <td>...</td>\n",
       "      <td>...</td>\n",
       "      <td>...</td>\n",
       "      <td>...</td>\n",
       "      <td>...</td>\n",
       "      <td>...</td>\n",
       "      <td>...</td>\n",
       "    </tr>\n",
       "    <tr>\n",
       "      <th>344732</th>\n",
       "      <td>8.0</td>\n",
       "      <td>8.0</td>\n",
       "      <td>8.0</td>\n",
       "      <td>8.0</td>\n",
       "      <td>8.0</td>\n",
       "      <td>8.0</td>\n",
       "      <td>5.0</td>\n",
       "      <td>5.0</td>\n",
       "      <td>8.0</td>\n",
       "      <td>5.0</td>\n",
       "      <td>5.0</td>\n",
       "      <td>6.0</td>\n",
       "      <td>6.0</td>\n",
       "      <td>6.0</td>\n",
       "    </tr>\n",
       "    <tr>\n",
       "      <th>344733</th>\n",
       "      <td>8.0</td>\n",
       "      <td>8.0</td>\n",
       "      <td>8.0</td>\n",
       "      <td>8.0</td>\n",
       "      <td>8.0</td>\n",
       "      <td>8.0</td>\n",
       "      <td>7.0</td>\n",
       "      <td>7.0</td>\n",
       "      <td>7.0</td>\n",
       "      <td>7.0</td>\n",
       "      <td>7.0</td>\n",
       "      <td>6.0</td>\n",
       "      <td>6.0</td>\n",
       "      <td>6.0</td>\n",
       "    </tr>\n",
       "    <tr>\n",
       "      <th>344734</th>\n",
       "      <td>4.0</td>\n",
       "      <td>4.0</td>\n",
       "      <td>4.0</td>\n",
       "      <td>4.0</td>\n",
       "      <td>4.0</td>\n",
       "      <td>4.0</td>\n",
       "      <td>5.0</td>\n",
       "      <td>5.0</td>\n",
       "      <td>4.0</td>\n",
       "      <td>5.0</td>\n",
       "      <td>5.0</td>\n",
       "      <td>6.0</td>\n",
       "      <td>6.0</td>\n",
       "      <td>6.0</td>\n",
       "    </tr>\n",
       "    <tr>\n",
       "      <th>344735</th>\n",
       "      <td>4.0</td>\n",
       "      <td>4.0</td>\n",
       "      <td>4.0</td>\n",
       "      <td>4.0</td>\n",
       "      <td>4.0</td>\n",
       "      <td>4.0</td>\n",
       "      <td>6.0</td>\n",
       "      <td>6.0</td>\n",
       "      <td>4.0</td>\n",
       "      <td>6.0</td>\n",
       "      <td>6.0</td>\n",
       "      <td>6.0</td>\n",
       "      <td>6.0</td>\n",
       "      <td>6.0</td>\n",
       "    </tr>\n",
       "    <tr>\n",
       "      <th>344736</th>\n",
       "      <td>1.0</td>\n",
       "      <td>1.0</td>\n",
       "      <td>1.0</td>\n",
       "      <td>1.0</td>\n",
       "      <td>1.0</td>\n",
       "      <td>1.0</td>\n",
       "      <td>6.0</td>\n",
       "      <td>6.0</td>\n",
       "      <td>1.0</td>\n",
       "      <td>6.0</td>\n",
       "      <td>6.0</td>\n",
       "      <td>6.0</td>\n",
       "      <td>6.0</td>\n",
       "      <td>6.0</td>\n",
       "    </tr>\n",
       "  </tbody>\n",
       "</table>\n",
       "<p>344737 rows × 14 columns</p>\n",
       "</div>"
      ],
      "text/plain": [
       "          0    0    0    0    0    0   lr  Linear Regression  \\\n",
       "0       8.0  8.0  8.0  8.0  8.0  8.0  6.0                6.0   \n",
       "1       5.0  5.0  5.0  5.0  5.0  5.0  5.0                5.0   \n",
       "2       8.0  8.0  8.0  8.0  8.0  8.0  7.0                7.0   \n",
       "3       5.0  5.0  5.0  5.0  5.0  5.0  7.0                7.0   \n",
       "4       8.0  8.0  8.0  8.0  8.0  8.0  5.0                5.0   \n",
       "...     ...  ...  ...  ...  ...  ...  ...                ...   \n",
       "344732  8.0  8.0  8.0  8.0  8.0  8.0  5.0                5.0   \n",
       "344733  8.0  8.0  8.0  8.0  8.0  8.0  7.0                7.0   \n",
       "344734  4.0  4.0  4.0  4.0  4.0  4.0  5.0                5.0   \n",
       "344735  4.0  4.0  4.0  4.0  4.0  4.0  6.0                6.0   \n",
       "344736  1.0  1.0  1.0  1.0  1.0  1.0  6.0                6.0   \n",
       "\n",
       "        LogisticRegression  Linear Regression  MBSGD  MBSGD_C  MBSGD_R  \\\n",
       "0                      7.0                6.0    6.0      6.0      6.0   \n",
       "1                      4.0                5.0    5.0      6.0      6.0   \n",
       "2                      7.0                7.0    7.0      6.0      6.0   \n",
       "3                      4.0                7.0    7.0      6.0      6.0   \n",
       "4                      8.0                5.0    5.0      6.0      6.0   \n",
       "...                    ...                ...    ...      ...      ...   \n",
       "344732                 8.0                5.0    5.0      6.0      6.0   \n",
       "344733                 7.0                7.0    7.0      6.0      6.0   \n",
       "344734                 4.0                5.0    5.0      6.0      6.0   \n",
       "344735                 4.0                6.0    6.0      6.0      6.0   \n",
       "344736                 1.0                6.0    6.0      6.0      6.0   \n",
       "\n",
       "        MBSGD_R  \n",
       "0           6.0  \n",
       "1           6.0  \n",
       "2           6.0  \n",
       "3           6.0  \n",
       "4           6.0  \n",
       "...         ...  \n",
       "344732      6.0  \n",
       "344733      6.0  \n",
       "344734      6.0  \n",
       "344735      6.0  \n",
       "344736      6.0  \n",
       "\n",
       "[344737 rows x 14 columns]"
      ]
     },
     "execution_count": 88,
     "metadata": {},
     "output_type": "execute_result"
    }
   ],
   "source": [
    "result_pd=addToResult(result_pd,cu_mbsgdR_pred,'MBSGD_R')"
   ]
  },
  {
   "cell_type": "code",
   "execution_count": 19,
   "metadata": {},
   "outputs": [
    {
     "ename": "NameError",
     "evalue": "name 'mbsgd_pred' is not defined",
     "output_type": "error",
     "traceback": [
      "\u001b[0;31m---------------------------------------------------------------------------\u001b[0m",
      "\u001b[0;31mNameError\u001b[0m                                 Traceback (most recent call last)",
      "\u001b[0;32m<timed exec>\u001b[0m in \u001b[0;36m<module>\u001b[0;34m\u001b[0m\n",
      "\u001b[0;31mNameError\u001b[0m: name 'mbsgd_pred' is not defined"
     ]
    }
   ],
   "source": [
    "%%time\n",
    "\n",
    "#from cuml.linear_model import MBSGDClassifier as cumlMBSGDClassifier\n",
    "t0 = time()\n",
    "\n",
    "cu_mbsgd_regressor = cumlMBSGDRegressor(learning_rate='constant', eta0=0.01, epochs=2000,\n",
    "                                        fit_intercept=True,\n",
    "                                        batch_size=64, tol=0.0,\n",
    "                                        penalty='l2',\n",
    "                                        loss='squared_loss',\n",
    "                                        alpha=0.5)\n",
    "\n",
    "cu_mbsgdR_pred= fit_and_predict(cu_mbsgd_regressor,'cu_sgd_cmul_full')\n",
    "cu_mbsgdR_mae,cu_mbsgdR_mse,cu_mbsgdR_r2_score=evaluate(y_test, mbsgdR_pred)\n",
    "\n",
    "# cu_mbsgd_regressor.fit(X, y)\n",
    "# mbsgdR_pred = cu_mbsgd_regressor.predict(X_test).to_array()\n",
    "\n",
    "t1 = time()\n",
    "cu_mbsgdR_t=t1-t0\n",
    "cu_mbsgdR_t=t1-t0\n",
    "print(cu_mbsgdR_pred)\n",
    "\n",
    "# mbsgdR_mae = mean_absolute_error(y_test, np.round(mbsgdR_pred))\n",
    "# mbsgdR_mse = mean_squared_error(y_test, np.round(mbsgdR_pred))\n",
    "# mbsgdR_r2_score= r2_score(y_test, np.round(mbsgdR_pred))\n",
    "print('MBSGDRegressor Performance on the test set: \\n MAE = %0.4f' % cu_mbsgdR_mae,\n",
    "      \"\\n MSE = %0.4f \"% cu_mbsgdR_mse,\n",
    "      \"\\n r2_sccore = %0.4f' \"% cu_mbsgdR_r2_score,   \n",
    "      \"\\n time = %0.4f' \"% cu_mbsgdR_t)"
   ]
  },
  {
   "cell_type": "code",
   "execution_count": 24,
   "metadata": {},
   "outputs": [
    {
     "name": "stdout",
     "output_type": "stream",
     "text": [
      "0         6.0\n",
      "1         6.0\n",
      "2         6.0\n",
      "3         6.0\n",
      "4         6.0\n",
      "         ... \n",
      "344732    6.0\n",
      "344733    6.0\n",
      "344734    6.0\n",
      "344735    6.0\n",
      "344736    6.0\n",
      "Length: 344737, dtype: float32\n",
      "MBSGDRegressor Performance on the test set: \n",
      " MAE = 2.5831 \n",
      " MSE = 9.1539  \n",
      " r2_sccore = -0.0077'  \n",
      " time = 288.7484' \n"
     ]
    }
   ],
   "source": [
    "cu_mbsgdR_t=t1-t0\n",
    "print(cu_mbsgdR_pred)\n",
    "\n",
    "# mbsgdR_mae = mean_absolute_error(y_test, np.round(mbsgdR_pred))\n",
    "# mbsgdR_mse = mean_squared_error(y_test, np.round(mbsgdR_pred))\n",
    "# mbsgdR_r2_score= r2_score(y_test, np.round(mbsgdR_pred))\n",
    "print('MBSGDRegressor Performance on the test set: \\n MAE = %0.4f' % cu_mbsgdR_mae,\n",
    "      \"\\n MSE = %0.4f \"% cu_mbsgdR_mse,\n",
    "      \"\\n r2_sccore = %0.4f' \"% cu_mbsgdR_r2_score,   \n",
    "      \"\\n time = %0.4f' \"% cu_mbsgdR_t)"
   ]
  },
  {
   "cell_type": "code",
   "execution_count": 20,
   "metadata": {},
   "outputs": [
    {
     "name": "stderr",
     "output_type": "stream",
     "text": [
      "/opt/conda/envs/rapids/lib/python3.8/site-packages/distributed/node.py:151: UserWarning: Port 8787 is already in use.\n",
      "Perhaps you already have a cluster running?\n",
      "Hosting the HTTP server on port 37304 instead\n",
      "  warnings.warn(\n"
     ]
    },
    {
     "name": "stdout",
     "output_type": "stream",
     "text": [
      "1\n"
     ]
    }
   ],
   "source": [
    "# This will use all GPUs on the local host by default\n",
    "cluster = LocalCUDACluster(threads_per_worker=1)\n",
    "c = Client(cluster)\n",
    "\n",
    "# Query the client for all connected workers\n",
    "workers = c.has_what().keys()\n",
    "n_workers = len(workers)\n",
    "print(n_workers)\n",
    "n_partitions = n_workers\n",
    "\n",
    "def distribute(X, y):\n",
    "    # First convert to cudf (with real data, you would likely load in cuDF format to start)\n",
    "    X_cudf = cudf.DataFrame(X)\n",
    "    y_cudf = cudf.Series(y)\n",
    "\n",
    "    # Partition with Dask\n",
    "    # In this case, each worker will train on 1/n_partitions fraction of the data\n",
    "    X_dask = dask_cudf.from_cudf(X_cudf, npartitions=n_partitions)\n",
    "    y_dask = dask_cudf.from_cudf(y_cudf, npartitions=n_partitions)\n",
    "\n",
    "    # Persist to cache the data in active memory\n",
    "    X_dask, y_dask = \\\n",
    "      dask_utils.persist_across_workers(c, [X_dask, y_dask], workers=workers)\n",
    "    \n",
    "    return X_dask, y_dask\n",
    "\n",
    "X_train_dask, y_train_dask = distribute(X, y)\n",
    "X_test_dask, y_test_dask = distribute(X_test, y_test)"
   ]
  },
  {
   "cell_type": "code",
   "execution_count": 21,
   "metadata": {},
   "outputs": [
    {
     "name": "stdout",
     "output_type": "stream",
     "text": [
      "Support Vector Machine Regression Performance on the test set: \n",
      " MAE = 1.6671 \n",
      " MSE = 5.3185  \n",
      " Max error = 0.4145  \n",
      " time = 288.7484' \n",
      "CPU times: user 3min 11s, sys: 1min 43s, total: 4min 54s\n",
      "Wall time: 4min 48s\n"
     ]
    }
   ],
   "source": [
    "%%time\n",
    "t0 = time()\n",
    "#svm = SVR(C = 1, gamma = 0.15)核函数：径向基核函数 高斯变换 线性的分割 变成非线性分割 \n",
    "svr = SVR(kernel='rbf', gamma='scale', C=1, epsilon=0.1)\n",
    "#svm = SVC(kernel='poly', degree=2, gamma='auto', C=1)\n",
    "\n",
    "svr_pred= fit_and_predict(svr,'cu_svr_full')\n",
    "svr_mae,svr_mse,svr_r2_score=evaluate(y_test, svr_pred)\n",
    "\n",
    "#svm_pred,svm_mae,svm_mse,svm_r2_score= fit_and_evaluate(svm,'svm_cmul_full')\n",
    "t1 = time()\n",
    "svr_t=t1-t0\n",
    "print('Support Vector Machine Regression Performance on the test set: \\n MAE = %0.4f' % svr_mae,\n",
    "      \"\\n MSE = %0.4f \"% svr_mse,\n",
    "      \"\\n Max error = %0.4f \"% svr_r2_score,\n",
    "      \"\\n time = %0.4f' \"% svr_t)\n",
    "\n",
    "result_pd=addToResult(result_pd,svr_pred,'SVR')"
   ]
  },
  {
   "cell_type": "code",
   "execution_count": 102,
   "metadata": {},
   "outputs": [
    {
     "name": "stdout",
     "output_type": "stream",
     "text": [
      "Support Vector Machine classifier performance on the test set: \n",
      " MAE = 2.2546 \n",
      " MSE = 12.0681  \n",
      " r2 score = -0.3285  \n",
      " time = 237.3905' \n",
      "CPU times: user 2min 47s, sys: 1min 14s, total: 4min 2s\n",
      "Wall time: 3min 57s\n"
     ]
    }
   ],
   "source": [
    "%%time\n",
    "t0 = time()\n",
    "#svm = SVR(C = 1000, gamma = 0.1)当C趋近于很小的时：意味着可以有更大的错误容忍\n",
    "svc = SVC(kernel='rbf', C = 1, gamma = 0.15)\n",
    "svc_pred= fit_and_predict(svc,'cu_svc_full')\n",
    "cu_svc_mae,cu_svc_mse,cu_svc_r2_score=evaluate(y_test, svc_pred)\n",
    "#svc_mae,svc_mse,svc_r2_score,svc_max_error,svc_pred= fit_and_evaluate(svc,'svm')\n",
    "t1 = time()\n",
    "cu_svc_t=t1-t0\n",
    "print('Support Vector Machine classifier performance on the test set: \\n MAE = %0.4f' % cu_svc_mae,\n",
    "      \"\\n MSE = %0.4f \"% cu_svc_mse,\n",
    "      \"\\n r2 score = %0.4f \"% cu_svc_r2_score,\n",
    "      \"\\n time = %0.4f' \"% cu_svc_t)"
   ]
  },
  {
   "cell_type": "code",
   "execution_count": 103,
   "metadata": {},
   "outputs": [
    {
     "name": "stdout",
     "output_type": "stream",
     "text": [
      "0         9.0\n",
      "1         2.0\n",
      "2         7.0\n",
      "3         9.0\n",
      "4         2.0\n",
      "         ... \n",
      "344732    1.0\n",
      "344733    9.0\n",
      "344734    5.0\n",
      "344735    5.0\n",
      "344736    1.0\n",
      "Length: 344737, dtype: float32\n"
     ]
    }
   ],
   "source": [
    "print(svc_pred)"
   ]
  },
  {
   "cell_type": "code",
   "execution_count": 104,
   "metadata": {},
   "outputs": [],
   "source": [
    "result_pd=addToResult(result_pd,svc_pred,'SVC')"
   ]
  },
  {
   "cell_type": "code",
   "execution_count": 105,
   "metadata": {},
   "outputs": [
    {
     "name": "stdout",
     "output_type": "stream",
     "text": [
      "Random forest Performance on the test set: \n",
      " MAE = 0.9794 \n",
      " MSE = 2.2952  \n",
      " Max error = 0.7473  \n",
      " time = 1.7986' \n"
     ]
    }
   ],
   "source": [
    "#%%timeit -n 1 -r 1\n",
    "t0 = time()\n",
    "random_forest = curfr(max_features=1.0,n_streams=1,\n",
    "                   n_bins=8,n_estimators=40, random_state=60)\n",
    "\n",
    "\n",
    "rf_pred= fit_and_predict(random_forest,'cu_svr_full')\n",
    "cu_rf_mae,cu_rf_mse,cu_rf_r2_score=evaluate(y_test, rf_pred)\n",
    "\n",
    "#rf_pred,rf_mae, rf_mse,rf_r2_score = fit_and_evaluate(random_forest,'rf_cmul_full')\n",
    "t1 = time()\n",
    "cu_rf_t=t1-t0\n",
    "print('Random forest Performance on the test set: \\n MAE = %0.4f' % cu_rf_mae,\n",
    "      \"\\n MSE = %0.4f \"% cu_rf_mse,\n",
    "      \"\\n r2 score = %0.4f \"% cu_rf_r2_score,\n",
    "      \"\\n time = %0.4f' \"% cu_rf_t)"
   ]
  },
  {
   "cell_type": "code",
   "execution_count": 106,
   "metadata": {},
   "outputs": [],
   "source": [
    "result_pd=addToResult(result_pd,rf_pred,'Random Forest')"
   ]
  },
  {
   "cell_type": "code",
   "execution_count": 108,
   "metadata": {},
   "outputs": [
    {
     "name": "stdout",
     "output_type": "stream",
     "text": [
      "{'silent': 1, 'tree_method': 'gpu_hist', 'n_gpus': 1, 'eval_metric': 'mae', 'objective': 'reg:squarederror'}\n",
      "[08:54:01] WARNING: /opt/conda/envs/rapids/conda-bld/xgboost_1612969829206/work/include/xgboost/generic_parameters.h:39: \n",
      "n_gpus: \n",
      "\tDeprecated. Single process multi-GPU training is no longer supported.\n",
      "\tPlease switch to distributed training with one process per GPU.\n",
      "\tThis can be done using Dask or Spark.  See documentation for details.\n",
      "[08:54:01] WARNING: /opt/conda/envs/rapids/conda-bld/xgboost_1612969829206/work/src/learner.cc:541: \n",
      "Parameters: { silent } might not be used.\n",
      "\n",
      "  This may not be accurate due to some parameters are only used in language bindings but\n",
      "  passed down to XGBoost core.  Or some parameters are not used but slip through this\n",
      "  verification. Please open an issue if you find above cases.\n",
      "\n",
      "\n",
      "[0]\tvalidation-mae:3.83897\ttrain-mae:3.84141\n",
      "[1]\tvalidation-mae:2.95052\ttrain-mae:2.95093\n",
      "[2]\tvalidation-mae:2.36471\ttrain-mae:2.36333\n",
      "[3]\tvalidation-mae:2.01296\ttrain-mae:2.01023\n",
      "[4]\tvalidation-mae:1.79400\ttrain-mae:1.79003\n",
      "[5]\tvalidation-mae:1.68978\ttrain-mae:1.68465\n",
      "[6]\tvalidation-mae:1.62011\ttrain-mae:1.61498\n",
      "[7]\tvalidation-mae:1.55085\ttrain-mae:1.54545\n",
      "[8]\tvalidation-mae:1.50554\ttrain-mae:1.49993\n",
      "[9]\tvalidation-mae:1.46339\ttrain-mae:1.45763\n",
      "[08:54:01] WARNING: /opt/conda/envs/rapids/conda-bld/xgboost_1612969829206/work/include/xgboost/generic_parameters.h:39: \n",
      "n_gpus: \n",
      "\tDeprecated. Single process multi-GPU training is no longer supported.\n",
      "\tPlease switch to distributed training with one process per GPU.\n",
      "\tThis can be done using Dask or Spark.  See documentation for details.\n",
      "XGBoost on the test set: \n",
      " MAE = 1.4634 \n",
      " MSE = 3.5394  \n",
      " Max error = 0.6104  \n",
      " time = 0.1498' \n"
     ]
    }
   ],
   "source": [
    "dtrain = xgb.DMatrix(X, label=y)\n",
    "dvalidation = xgb.DMatrix(X_test, label=y_test)\n",
    "\n",
    "# instantiate params\n",
    "params = {}\n",
    "\n",
    "# general params\n",
    "general_params = {'silent': 1}\n",
    "params.update(general_params)\n",
    "\n",
    "# booster params\n",
    "n_gpus = 1\n",
    "booster_params = {}\n",
    "\n",
    "if n_gpus != 0:\n",
    "    booster_params['tree_method'] = 'gpu_hist'\n",
    "    booster_params['n_gpus'] = n_gpus\n",
    "params.update(booster_params)\n",
    "\n",
    "# learning task params\n",
    "#learning_task_params = {'eval_metric': 'auc', 'objective': 'binary:logistic'}\n",
    "learning_task_params = {'eval_metric': 'mae', 'objective': 'reg:squarederror'}\n",
    "\n",
    "params.update(learning_task_params)\n",
    "print(params)\n",
    "\n",
    "# model training settings\n",
    "evallist = [(dvalidation, 'validation'), (dtrain, 'train')]\n",
    "num_round = 10\n",
    "\n",
    "t=time()\n",
    "bst = xgb.train(params, dtrain, num_round, evallist)\n",
    "t1=time()\n",
    "\n",
    "xgb_pred=bst.predict(dvalidation)\n",
    "\n",
    "xgb_t=t1-t\n",
    "\n",
    "#print(np.round(xgb_pred))\n",
    "\n",
    "xgb_mae,xgb_mse,xgb_r2_score=evaluate(y_test, xgb_pred)\n",
    "\n",
    "# xgb_mae = mean_absolute_error(y_test, np.round(xgb_pred))\n",
    "# xgb_mse = mean_squared_error(y_test, np.round(xgb_pred))\n",
    "# xgb_r2_score= r2_score(y_test, np.round(xgb_pred))\n",
    "\n",
    "print('XGBoost on the test set: \\n MAE = %0.4f' % xgb_mae,\n",
    "      \"\\n MSE = %0.4f \"% xgb_mse,\n",
    "      \"\\n r2 score = %0.4f \"% xgb_r2_score,\n",
    "      \"\\n time = %0.4f' \"% xgb_t)\n",
    "\n",
    "#result_pd=addToResult(result_pd,xgb_pred,'XG_boost')\n",
    "pred=pd.DataFrame({'xg boost':xgb_pred})\n",
    "result_pd= pd.concat([result_pd,pred],axis=1)"
   ]
  },
  {
   "cell_type": "code",
   "execution_count": 109,
   "metadata": {},
   "outputs": [
    {
     "data": {
      "text/plain": [
       "<AxesSubplot:title={'center':'Feature importance'}, xlabel='F score', ylabel='Features'>"
      ]
     },
     "execution_count": 109,
     "metadata": {},
     "output_type": "execute_result"
    },
    {
     "data": {
      "image/png": "[encoded data removed]",
      "text/plain": [
       "<Figure size 432x288 with 1 Axes>"
      ]
     },
     "metadata": {},
     "output_type": "display_data"
    }
   ],
   "source": [
    "from xgboost import plot_importance\n",
    "xgb.plot_importance(bst)"
   ]
  },
  {
   "cell_type": "code",
   "execution_count": 111,
   "metadata": {},
   "outputs": [
    {
     "name": "stdout",
     "output_type": "stream",
     "text": [
      "K-NeighborsRegression Performance on the test set: \n",
      " MAE = 0.9794 \n",
      " MSE = 2.2952  \n",
      " r2 score = 0.7473  \n",
      " time = 5.2552' \n"
     ]
    }
   ],
   "source": [
    "#%%timeit -n 1 -r 1\n",
    "t0 = time()\n",
    "knn = KNeighborsRegressor(n_neighbors=10)\n",
    "\n",
    "knn_pred= fit_and_predict(knn,'cu_knn_full')\n",
    "cu_knn_mae,cu_knn_mse,cu_knn_r2_score=evaluate(y_test, rf_pred)\n",
    "\n",
    "#knn_pred, knn_mae,knn_mse,knn_r2_score = fit_and_evaluate(knn,'knn_cmul_full')\n",
    "t1 = time()\n",
    "knn_t=t1-t0\n",
    "print('K-NeighborsRegression Performance on the test set: \\n MAE = %0.4f' % cu_knn_mae,\n",
    "      \"\\n MSE = %0.4f \"% cu_knn_mse,\n",
    "      \"\\n r2 score = %0.4f \"%cu_knn_r2_score, \n",
    "      \"\\n time = %0.4f' \"% knn_t)\n",
    "\n",
    "result_pd=addToResult(result_pd,knn_pred,'KNN')"
   ]
  },
  {
   "cell_type": "code",
   "execution_count": null,
   "metadata": {},
   "outputs": [],
   "source": [
    "t0 = time()\n",
    "\n",
    "dbscan = DBSCAN(eps = 1.0, min_samples = 1)\n",
    "dbscan_float.fit(gdf_float)\n",
    "\n",
    "dbscan_pred= fit_and_predict(dbscan,'cu_dbscan_full')\n",
    "cu_dbscan_mae,cu_dbscan_mse,cu_dbscan_r2_score=evaluate(y_test, dbscan_pred)\n",
    "\n",
    "t1 = time()\n",
    "dbscan_t=t1-t0\n",
    "\n",
    "\n",
    "print('DBSCAN Performance on the test set: \\n MAE = %0.4f' % cu_dbscan_mae,\n",
    "      \"\\n MSE = %0.4f \"% cu_dbscan_mse,\n",
    "      \"\\n r2 score = %0.4f \"%cu_dbscan_r2_score, \n",
    "      \"\\n time = %0.4f' \"% dbscan_t)\n",
    "\n",
    "result_pd=addToResult(result_pd,dbscan_pred,'DBSCAN')"
   ]
  },
  {
   "cell_type": "code",
   "execution_count": 2,
   "metadata": {},
   "outputs": [
    {
     "ename": "NameError",
     "evalue": "name 'result_pd' is not defined",
     "output_type": "error",
     "traceback": [
      "\u001b[0;31m---------------------------------------------------------------------------\u001b[0m",
      "\u001b[0;31mNameError\u001b[0m                                 Traceback (most recent call last)",
      "\u001b[0;32m<ipython-input-2-3205d215d7a1>\u001b[0m in \u001b[0;36m<module>\u001b[0;34m\u001b[0m\n\u001b[0;32m----> 1\u001b[0;31m \u001b[0mresult_pd\u001b[0m\u001b[0;34m\u001b[0m\u001b[0;34m\u001b[0m\u001b[0m\n\u001b[0m",
      "\u001b[0;31mNameError\u001b[0m: name 'result_pd' is not defined"
     ]
    }
   ],
   "source": [
    "result_pd"
   ]
  },
  {
   "cell_type": "code",
   "execution_count": 1,
   "metadata": {},
   "outputs": [
    {
     "ename": "NameError",
     "evalue": "name 'result_pd' is not defined",
     "output_type": "error",
     "traceback": [
      "\u001b[0;31m---------------------------------------------------------------------------\u001b[0m",
      "\u001b[0;31mNameError\u001b[0m                                 Traceback (most recent call last)",
      "\u001b[0;32m<ipython-input-1-480e81fd2391>\u001b[0m in \u001b[0;36m<module>\u001b[0;34m\u001b[0m\n\u001b[0;32m----> 1\u001b[0;31m \u001b[0mresult_pd\u001b[0m\u001b[0;34m.\u001b[0m\u001b[0mto_csv\u001b[0m\u001b[0;34m(\u001b[0m\u001b[0;34m'DB/result/result.csv'\u001b[0m\u001b[0;34m,\u001b[0m \u001b[0mindex\u001b[0m \u001b[0;34m=\u001b[0m \u001b[0;32mFalse\u001b[0m\u001b[0;34m)\u001b[0m\u001b[0;34m\u001b[0m\u001b[0;34m\u001b[0m\u001b[0m\n\u001b[0m",
      "\u001b[0;31mNameError\u001b[0m: name 'result_pd' is not defined"
     ]
    }
   ],
   "source": [
    "result_pd.to_csv('DB/result/result.csv', index = False)"
   ]
  },
  {
   "cell_type": "code",
   "execution_count": 115,
   "metadata": {},
   "outputs": [
    {
     "name": "stdout",
     "output_type": "stream",
     "text": [
      "0.10942254215478897 0.42861658334732056 0.949053943157196 0.233047217130661\n"
     ]
    }
   ],
   "source": [
    "#without process lr MAE = 1.5687 svm MAE = 1.2624 random forest MAE = 0.4122 GB MAE = 0.9731  KNN MAE = 0.7794\n",
    "#without process lr MAE = 1.5356  svm MAE = 1.2192 random forest MAE = 0.3905 GB MAE =  0.9134  KNN MAE = 0.7670\n",
    "\n",
    "lr_acsore=accuracy_score(y_test, lr_pred)\n",
    "rf_acsore=accuracy_score(y_test, rf_pred)\n",
    "xgb_acsore=accuracy_score(y_test, xgb_pred)\n",
    "logRe_acsore=accuracy_score(y_test, logRe_pred)\n",
    "cu_mbsgdR_acsore=accuracy_score(y_test, cu_mbsgdR_pred)\n",
    "cu_mbsgdC_acsore=accuracy_score(y_test, cu_mbsgdC_pred)\n",
    "#gb_acsore=accuracy_score(y_test,gb_pred, normalize=True)\n",
    "knn_acsore=accuracy_score(y_test,knn_pred)\n",
    "print(lr_acsore,rf_acsore,knn_acsore,xgb_acsore)"
   ]
  },
  {
   "cell_type": "code",
   "execution_count": 127,
   "metadata": {},
   "outputs": [
    {
     "name": "stdout",
     "output_type": "stream",
     "text": [
      "0.1520519256591797 0.024474620819091797 1.7985765933990479 288.7484173774719 5.2552361488342285 0.14979028701782227 2995.5147228240967\n",
      "                         model       mae         time\n",
      "0           LogisticRegression  3.103131     0.152052\n",
      "1            Linear Regression  2.537987     0.024475\n",
      "2  Stochastic Gradient Descent  2.542968  1924.368763\n",
      "3              MBSGDRegression  2.583053   288.748417\n",
      "4              MBSGDClassifier  2.583053  1930.824276\n",
      "5    Support Vector Regression  1.667071   288.748417\n",
      "6     Support Vector Classfier  2.254585   237.390467\n",
      "7                Random Forest  0.979422     1.798577\n",
      "8                     XG Boost  1.463393     0.149790\n",
      "9          K-Nearest Neighbors  0.979422     5.255236\n"
     ]
    }
   ],
   "source": [
    "#print(logRe_mae, lr_mae, cu_rf_mae, svr_mae, knn_mae,xgb_mae,cusgd_mae)\n",
    "print(logRe_t, lr_t, cu_rf_t, svr_t, knn_t,xgb_t,cusgd_t)\n",
    "\n",
    "model_comparison = pd.DataFrame({'model': ['LogisticRegression','Linear Regression','Stochastic Gradient Descent','MBSGDRegression',\n",
    "                                           'MBSGDClassifier','Support Vector Regression','Support Vector Classfier',\n",
    "                                           'Random Forest', 'XG Boost','K-Nearest Neighbors'],\n",
    "                                 'mae': np.array([logRe_mae, lr_mae,cu_sgd_mae, cu_mbsgdR_mae, \n",
    "                                                  cu_mbsgdC_mae,svr_mae,cu_svc_mae,\n",
    "                                                  cu_rf_mae, xgb_mae, cu_knn_mae]).astype(float),\n",
    "                                 'time': np.array([logRe_t, lr_t, cu_sgd_t, cu_mbsgdR_t,\n",
    "                                                   cu_mbsgdC_t,svr_t,cu_svc_t, \n",
    "                                                   cu_rf_t, xgb_t, knn_t]).astype(float)})\n",
    "\n",
    "\n",
    "print(model_comparison)\n",
    "#2.201003211178209 0.11234611537680582 1.062275800350447 0.18753431147676597\n",
    "#0.06550335884094238 59.31387782096863 18.222867965698242 37.90412163734436\n",
    "\n",
    "#2.537987 0.9786156 2.7027068 0.09342774\n",
    "#0.028433799743652344 1.3301267623901367 346.9047305583954 5.238832950592041,"
   ]
  },
  {
   "cell_type": "code",
   "execution_count": 128,
   "metadata": {},
   "outputs": [
    {
     "data": {
      "image/png": "[encoded data removed]",
      "text/plain": [
       "<Figure size 432x288 with 1 Axes>"
      ]
     },
     "metadata": {},
     "output_type": "display_data"
    }
   ],
   "source": [
    "dt = str(time())\n",
    "\n",
    "plt.style.use('fivethirtyeight')\n",
    "#figsize(8, 6)\n",
    "\n",
    "model_comparison.sort_values('mae', ascending = False).plot(x = 'model', y = 'mae', kind = 'barh',\n",
    "                                                           color = 'green', edgecolor = 'black')\n",
    "\n",
    "plt.ylabel(''); plt.yticks(size = 10); \n",
    "plt.xlabel('Mean Absolute Error'); \n",
    "plt.xticks(size = 10)\n",
    "\n",
    "plt.title('Model Comparison on Test MAE', size = 20);\n",
    "plt.savefig('./images/rapids_mae'+dt+'.png',dpi=500,bbox_inches = 'tight') \n",
    "plt.show()"
   ]
  },
  {
   "cell_type": "code",
   "execution_count": 130,
   "metadata": {},
   "outputs": [
    {
     "data": {
      "image/png": "[encoded data removed]",
      "text/plain": [
       "<Figure size 432x288 with 1 Axes>"
      ]
     },
     "metadata": {},
     "output_type": "display_data"
    }
   ],
   "source": [
    "dt = str(time())\n",
    "\n",
    "plt.style.use('fivethirtyeight')\n",
    "\n",
    "model_comparison.sort_values('time', ascending = False).plot(x = 'model', y = 'time', kind = 'barh',\n",
    "                                                           color = 'green', edgecolor = 'black')\n",
    "\n",
    "# Plot formatting\n",
    "plt.ylabel(''); plt.yticks(size = 10); \n",
    "plt.xlabel('Executation Time Comparison'); \n",
    "plt.xticks(size = 10)\n",
    "\n",
    "plt.title('Model Comparison on Excecutation Time', size = 20);\n",
    "plt.savefig('./images/rapids_time'+dt+'.png',dpi=500) \n",
    "plt.show()"
   ]
  },
  {
   "cell_type": "code",
   "execution_count": 131,
   "metadata": {},
   "outputs": [],
   "source": [
    "def plot_confusion_matrix(cm,title):\n",
    "    cmap=plt.cm.Blues\n",
    "    leng=len(cm)\n",
    "    classes=np.arange(1, leng+1)\n",
    "    dt = str(time())\n",
    "    print(classes)\n",
    "    #harvest = np.random.randint(4, 10, (10, 10))\n",
    "    fig, ax = plt.subplots()\n",
    "    im = ax.imshow(cm,cmap=\"YlGnBu\")#,vmin=0, vmax=500\n",
    "    sns.set_theme()\n",
    "    #im = sns.heatmap(cm,linewidths=.5,cmap=cmap, vmin=0, vmax=500)\n",
    "    sticks=np.arange(0,len(classes))\n",
    "\n",
    "    # We want to show all ticks...\n",
    "    ax.set_xticks(sticks)\n",
    "    ax.set_yticks(sticks)\n",
    "    #axes.set_xticklabels([\"A\", \"B\", \"C\", \"D\", \"E\"])\n",
    "    #ax.set_yticks(classes)\n",
    "    # ... and label them with the respective list entries\n",
    "    ax.set_xticklabels(classes)\n",
    "    ax.set_yticklabels(classes)\n",
    "    \n",
    "    #thresh = cm.max() / 10.\n",
    "\n",
    "    # Rotate the tick labels and set their alignment.\n",
    "    plt.setp(ax.get_xticklabels(), rotation=45, ha=\"right\",\n",
    "             rotation_mode=\"anchor\")\n",
    "\n",
    "    # Loop over data dimensions and create text annotations.\n",
    "    for i in sticks:\n",
    "        for j in sticks:\n",
    "            text = ax.text(j, i, cm[i, j],ha=\"center\", va=\"center\",fontsize=10)\n",
    "\n",
    "    ax.set_title(title)\n",
    "    fig.tight_layout()\n",
    "    plt.savefig('./images/maedropna_withprocess'+title+dt+'.png',quality=100,dpi=500) \n",
    "    plt.show()\n",
    "    \n",
    "def make_confusion_matrix(y_test, model_pred):\n",
    "    cf_m = confusion_matrix(y_test, model_pred)\n",
    "    return cf_m"
   ]
  },
  {
   "cell_type": "code",
   "execution_count": 135,
   "metadata": {},
   "outputs": [
    {
     "data": {
      "image/png": "[encoded data removed]",
      "text/plain": [
       "<Figure size 576x720 with 1 Axes>"
      ]
     },
     "metadata": {},
     "output_type": "display_data"
    }
   ],
   "source": [
    "knn_cnf_matrix= make_confusion_matrix(y_test.to_array(), knn_pred.to_array())\n",
    "plt.figure(figsize=(8,10))\n",
    "sns.heatmap(knn_cnf_matrix.T, square=True, annot=True, fmt='d', cbar=False,\n",
    "            #xticklabels=faces.target_names,\n",
    "            #yticklabels=faces.target_names\n",
    "           )\n",
    "plt.xlabel('true Location_no label')\n",
    "plt.ylabel('predicted Location_no label');\n",
    "\n",
    "# print(knn_cnf_matrix)\n",
    "# plt.figure(figsize=(8,10))\n",
    "# plot_confusion_matrix(knn_cnf_matrix, title='KNN Confusion matrix')\n",
    "# plt.show()"
   ]
  },
  {
   "cell_type": "code",
   "execution_count": 88,
   "metadata": {},
   "outputs": [],
   "source": [
    "# Loss function to be optimized\n",
    "loss = ['ls', 'lad', 'huber']\n",
    "\n",
    "# Number of trees used in the boosting process\n",
    "n_estimators = [10,20,50,80,100, 500, 900, 1100, 1500]\n",
    "\n",
    "# Maximum depth of each tree\n",
    "max_depth = [2, 3, 5, 10, 15]\n",
    "\n",
    "# Minimum number of samples per leaf\n",
    "min_samples_leaf = [1, 2, 4, 6, 8]\n",
    "\n",
    "# Minimum number of samples to split a node\n",
    "min_samples_split = [2, 4, 6, 10]\n",
    "\n",
    "# Maximum number of features to consider for making splits\n",
    "max_features = ['auto', 'sqrt', 'log2', None]\n",
    "\n",
    "# Define the grid of hyperparameters to search\n",
    "hyperparameter_grid = {'loss': loss,\n",
    "                       'n_estimators': n_estimators,\n",
    "                       'max_depth': max_depth,\n",
    "                       'min_samples_leaf': min_samples_leaf,\n",
    "                       'min_samples_split': min_samples_split,\n",
    "                       'max_features': max_features}"
   ]
  },
  {
   "cell_type": "code",
   "execution_count": 89,
   "metadata": {},
   "outputs": [],
   "source": [
    "# Create the model to use for hyperparameter tuning\n",
    "from cuml import Ridge as cumlRidge\n",
    "\n",
    "\n",
    "model = GradientBoostingRegressor(random_state = 42)\n",
    "\n",
    "# Set up the random search with 4-fold cross validation\n",
    "random_cv = RandomizedSearchCV(estimator=model,\n",
    "                               param_distributions=hyperparameter_grid,\n",
    "                               cv=4, n_iter=25, \n",
    "                               scoring = 'neg_mean_absolute_error',\n",
    "                               n_jobs = -1, verbose = 1, \n",
    "                               return_train_score = True,\n",
    "                               random_state=42)"
   ]
  },
  {
   "cell_type": "code",
   "execution_count": 90,
   "metadata": {},
   "outputs": [
    {
     "name": "stdout",
     "output_type": "stream",
     "text": [
      "Fitting 4 folds for each of 25 candidates, totalling 100 fits\n",
      "Done learning 728.284 sec\n"
     ]
    }
   ],
   "source": [
    "# Fit on the training data\n",
    "t0 = time()\n",
    "random_cv.fit(X, y)\n",
    "t1 = time()\n",
    "print('Done learning {0:.3f} sec'.format(t1-t0))"
   ]
  },
  {
   "cell_type": "code",
   "execution_count": 91,
   "metadata": {},
   "outputs": [
    {
     "data": {
      "text/html": [
       "<div>\n",
       "<style scoped>\n",
       "    .dataframe tbody tr th:only-of-type {\n",
       "        vertical-align: middle;\n",
       "    }\n",
       "\n",
       "    .dataframe tbody tr th {\n",
       "        vertical-align: top;\n",
       "    }\n",
       "\n",
       "    .dataframe thead th {\n",
       "        text-align: right;\n",
       "    }\n",
       "</style>\n",
       "<table border=\"1\" class=\"dataframe\">\n",
       "  <thead>\n",
       "    <tr style=\"text-align: right;\">\n",
       "      <th></th>\n",
       "      <th>mean_fit_time</th>\n",
       "      <th>std_fit_time</th>\n",
       "      <th>mean_score_time</th>\n",
       "      <th>std_score_time</th>\n",
       "      <th>param_n_estimators</th>\n",
       "      <th>param_min_samples_split</th>\n",
       "      <th>param_min_samples_leaf</th>\n",
       "      <th>param_max_features</th>\n",
       "      <th>param_max_depth</th>\n",
       "      <th>param_loss</th>\n",
       "      <th>params</th>\n",
       "      <th>split0_test_score</th>\n",
       "      <th>split1_test_score</th>\n",
       "      <th>split2_test_score</th>\n",
       "      <th>split3_test_score</th>\n",
       "      <th>mean_test_score</th>\n",
       "      <th>std_test_score</th>\n",
       "      <th>rank_test_score</th>\n",
       "      <th>split0_train_score</th>\n",
       "      <th>split1_train_score</th>\n",
       "      <th>split2_train_score</th>\n",
       "      <th>split3_train_score</th>\n",
       "      <th>mean_train_score</th>\n",
       "      <th>std_train_score</th>\n",
       "    </tr>\n",
       "  </thead>\n",
       "  <tbody>\n",
       "    <tr>\n",
       "      <th>12</th>\n",
       "      <td>306.285071</td>\n",
       "      <td>3.791618</td>\n",
       "      <td>0.855594</td>\n",
       "      <td>0.010745</td>\n",
       "      <td>1500</td>\n",
       "      <td>10</td>\n",
       "      <td>6</td>\n",
       "      <td>log2</td>\n",
       "      <td>15</td>\n",
       "      <td>huber</td>\n",
       "      <td>{'n_estimators': 1500, 'min_samples_split': 10...</td>\n",
       "      <td>-0.396918</td>\n",
       "      <td>-0.386701</td>\n",
       "      <td>-0.394414</td>\n",
       "      <td>-0.396409</td>\n",
       "      <td>-0.393610</td>\n",
       "      <td>0.004098</td>\n",
       "      <td>1</td>\n",
       "      <td>-0.042560</td>\n",
       "      <td>-0.040545</td>\n",
       "      <td>-0.043245</td>\n",
       "      <td>-0.043478</td>\n",
       "      <td>-0.042457</td>\n",
       "      <td>0.001154</td>\n",
       "    </tr>\n",
       "    <tr>\n",
       "      <th>22</th>\n",
       "      <td>130.481129</td>\n",
       "      <td>1.000426</td>\n",
       "      <td>0.265605</td>\n",
       "      <td>0.040018</td>\n",
       "      <td>1500</td>\n",
       "      <td>6</td>\n",
       "      <td>1</td>\n",
       "      <td>auto</td>\n",
       "      <td>5</td>\n",
       "      <td>huber</td>\n",
       "      <td>{'n_estimators': 1500, 'min_samples_split': 6,...</td>\n",
       "      <td>-0.536804</td>\n",
       "      <td>-0.526379</td>\n",
       "      <td>-0.524561</td>\n",
       "      <td>-0.544207</td>\n",
       "      <td>-0.532988</td>\n",
       "      <td>0.007986</td>\n",
       "      <td>2</td>\n",
       "      <td>-0.342247</td>\n",
       "      <td>-0.342857</td>\n",
       "      <td>-0.341410</td>\n",
       "      <td>-0.341051</td>\n",
       "      <td>-0.341891</td>\n",
       "      <td>0.000706</td>\n",
       "    </tr>\n",
       "    <tr>\n",
       "      <th>14</th>\n",
       "      <td>4.960023</td>\n",
       "      <td>0.083927</td>\n",
       "      <td>0.056365</td>\n",
       "      <td>0.000402</td>\n",
       "      <td>80</td>\n",
       "      <td>6</td>\n",
       "      <td>4</td>\n",
       "      <td>sqrt</td>\n",
       "      <td>10</td>\n",
       "      <td>ls</td>\n",
       "      <td>{'n_estimators': 80, 'min_samples_split': 6, '...</td>\n",
       "      <td>-0.550553</td>\n",
       "      <td>-0.522717</td>\n",
       "      <td>-0.538366</td>\n",
       "      <td>-0.546296</td>\n",
       "      <td>-0.539483</td>\n",
       "      <td>0.010622</td>\n",
       "      <td>3</td>\n",
       "      <td>-0.372685</td>\n",
       "      <td>-0.365453</td>\n",
       "      <td>-0.375961</td>\n",
       "      <td>-0.373641</td>\n",
       "      <td>-0.371935</td>\n",
       "      <td>0.003927</td>\n",
       "    </tr>\n",
       "    <tr>\n",
       "      <th>24</th>\n",
       "      <td>4.290845</td>\n",
       "      <td>0.139594</td>\n",
       "      <td>0.040583</td>\n",
       "      <td>0.004159</td>\n",
       "      <td>50</td>\n",
       "      <td>2</td>\n",
       "      <td>2</td>\n",
       "      <td>log2</td>\n",
       "      <td>10</td>\n",
       "      <td>ls</td>\n",
       "      <td>{'n_estimators': 50, 'min_samples_split': 2, '...</td>\n",
       "      <td>-0.566674</td>\n",
       "      <td>-0.540516</td>\n",
       "      <td>-0.545812</td>\n",
       "      <td>-0.553606</td>\n",
       "      <td>-0.551652</td>\n",
       "      <td>0.009844</td>\n",
       "      <td>4</td>\n",
       "      <td>-0.418519</td>\n",
       "      <td>-0.407712</td>\n",
       "      <td>-0.394890</td>\n",
       "      <td>-0.394812</td>\n",
       "      <td>-0.403983</td>\n",
       "      <td>0.009899</td>\n",
       "    </tr>\n",
       "    <tr>\n",
       "      <th>21</th>\n",
       "      <td>153.140030</td>\n",
       "      <td>6.905780</td>\n",
       "      <td>0.383297</td>\n",
       "      <td>0.006598</td>\n",
       "      <td>900</td>\n",
       "      <td>6</td>\n",
       "      <td>4</td>\n",
       "      <td>None</td>\n",
       "      <td>10</td>\n",
       "      <td>lad</td>\n",
       "      <td>{'n_estimators': 900, 'min_samples_split': 6, ...</td>\n",
       "      <td>-0.569456</td>\n",
       "      <td>-0.549446</td>\n",
       "      <td>-0.573961</td>\n",
       "      <td>-0.526652</td>\n",
       "      <td>-0.554879</td>\n",
       "      <td>0.018727</td>\n",
       "      <td>5</td>\n",
       "      <td>-0.381191</td>\n",
       "      <td>-0.413211</td>\n",
       "      <td>-0.399516</td>\n",
       "      <td>-0.327359</td>\n",
       "      <td>-0.380319</td>\n",
       "      <td>0.032619</td>\n",
       "    </tr>\n",
       "    <tr>\n",
       "      <th>17</th>\n",
       "      <td>24.132552</td>\n",
       "      <td>1.435009</td>\n",
       "      <td>0.052834</td>\n",
       "      <td>0.002009</td>\n",
       "      <td>80</td>\n",
       "      <td>4</td>\n",
       "      <td>6</td>\n",
       "      <td>None</td>\n",
       "      <td>10</td>\n",
       "      <td>lad</td>\n",
       "      <td>{'n_estimators': 80, 'min_samples_split': 4, '...</td>\n",
       "      <td>-0.634903</td>\n",
       "      <td>-0.569072</td>\n",
       "      <td>-0.633731</td>\n",
       "      <td>-0.617376</td>\n",
       "      <td>-0.613771</td>\n",
       "      <td>0.026721</td>\n",
       "      <td>6</td>\n",
       "      <td>-0.512230</td>\n",
       "      <td>-0.489044</td>\n",
       "      <td>-0.522221</td>\n",
       "      <td>-0.476739</td>\n",
       "      <td>-0.500058</td>\n",
       "      <td>0.018059</td>\n",
       "    </tr>\n",
       "    <tr>\n",
       "      <th>2</th>\n",
       "      <td>80.727845</td>\n",
       "      <td>1.181191</td>\n",
       "      <td>0.469362</td>\n",
       "      <td>0.015988</td>\n",
       "      <td>1500</td>\n",
       "      <td>6</td>\n",
       "      <td>8</td>\n",
       "      <td>sqrt</td>\n",
       "      <td>5</td>\n",
       "      <td>lad</td>\n",
       "      <td>{'n_estimators': 1500, 'min_samples_split': 6,...</td>\n",
       "      <td>-0.630182</td>\n",
       "      <td>-0.605026</td>\n",
       "      <td>-0.616085</td>\n",
       "      <td>-0.635091</td>\n",
       "      <td>-0.621596</td>\n",
       "      <td>0.011840</td>\n",
       "      <td>7</td>\n",
       "      <td>-0.555967</td>\n",
       "      <td>-0.561381</td>\n",
       "      <td>-0.555894</td>\n",
       "      <td>-0.552808</td>\n",
       "      <td>-0.556512</td>\n",
       "      <td>0.003086</td>\n",
       "    </tr>\n",
       "    <tr>\n",
       "      <th>13</th>\n",
       "      <td>10.371789</td>\n",
       "      <td>0.359784</td>\n",
       "      <td>0.024455</td>\n",
       "      <td>0.000371</td>\n",
       "      <td>20</td>\n",
       "      <td>2</td>\n",
       "      <td>6</td>\n",
       "      <td>log2</td>\n",
       "      <td>15</td>\n",
       "      <td>lad</td>\n",
       "      <td>{'n_estimators': 20, 'min_samples_split': 2, '...</td>\n",
       "      <td>-0.641214</td>\n",
       "      <td>-0.603217</td>\n",
       "      <td>-0.634164</td>\n",
       "      <td>-0.651088</td>\n",
       "      <td>-0.632421</td>\n",
       "      <td>0.017900</td>\n",
       "      <td>8</td>\n",
       "      <td>-0.489525</td>\n",
       "      <td>-0.476957</td>\n",
       "      <td>-0.482979</td>\n",
       "      <td>-0.492917</td>\n",
       "      <td>-0.485594</td>\n",
       "      <td>0.006134</td>\n",
       "    </tr>\n",
       "    <tr>\n",
       "      <th>8</th>\n",
       "      <td>73.992681</td>\n",
       "      <td>0.994838</td>\n",
       "      <td>0.369735</td>\n",
       "      <td>0.006084</td>\n",
       "      <td>1100</td>\n",
       "      <td>10</td>\n",
       "      <td>8</td>\n",
       "      <td>log2</td>\n",
       "      <td>5</td>\n",
       "      <td>lad</td>\n",
       "      <td>{'n_estimators': 1100, 'min_samples_split': 10...</td>\n",
       "      <td>-0.645731</td>\n",
       "      <td>-0.618413</td>\n",
       "      <td>-0.640770</td>\n",
       "      <td>-0.652309</td>\n",
       "      <td>-0.639305</td>\n",
       "      <td>0.012738</td>\n",
       "      <td>9</td>\n",
       "      <td>-0.583716</td>\n",
       "      <td>-0.582934</td>\n",
       "      <td>-0.593089</td>\n",
       "      <td>-0.581147</td>\n",
       "      <td>-0.585221</td>\n",
       "      <td>0.004637</td>\n",
       "    </tr>\n",
       "    <tr>\n",
       "      <th>20</th>\n",
       "      <td>2.136960</td>\n",
       "      <td>0.105299</td>\n",
       "      <td>0.027730</td>\n",
       "      <td>0.001654</td>\n",
       "      <td>20</td>\n",
       "      <td>2</td>\n",
       "      <td>8</td>\n",
       "      <td>log2</td>\n",
       "      <td>15</td>\n",
       "      <td>ls</td>\n",
       "      <td>{'n_estimators': 20, 'min_samples_split': 2, '...</td>\n",
       "      <td>-0.648841</td>\n",
       "      <td>-0.630585</td>\n",
       "      <td>-0.658408</td>\n",
       "      <td>-0.653668</td>\n",
       "      <td>-0.647875</td>\n",
       "      <td>0.010540</td>\n",
       "      <td>10</td>\n",
       "      <td>-0.498620</td>\n",
       "      <td>-0.507351</td>\n",
       "      <td>-0.515544</td>\n",
       "      <td>-0.500391</td>\n",
       "      <td>-0.505476</td>\n",
       "      <td>0.006666</td>\n",
       "    </tr>\n",
       "  </tbody>\n",
       "</table>\n",
       "</div>"
      ],
      "text/plain": [
       "    mean_fit_time  std_fit_time  mean_score_time  std_score_time  \\\n",
       "12     306.285071      3.791618         0.855594        0.010745   \n",
       "22     130.481129      1.000426         0.265605        0.040018   \n",
       "14       4.960023      0.083927         0.056365        0.000402   \n",
       "24       4.290845      0.139594         0.040583        0.004159   \n",
       "21     153.140030      6.905780         0.383297        0.006598   \n",
       "17      24.132552      1.435009         0.052834        0.002009   \n",
       "2       80.727845      1.181191         0.469362        0.015988   \n",
       "13      10.371789      0.359784         0.024455        0.000371   \n",
       "8       73.992681      0.994838         0.369735        0.006084   \n",
       "20       2.136960      0.105299         0.027730        0.001654   \n",
       "\n",
       "   param_n_estimators param_min_samples_split param_min_samples_leaf  \\\n",
       "12               1500                      10                      6   \n",
       "22               1500                       6                      1   \n",
       "14                 80                       6                      4   \n",
       "24                 50                       2                      2   \n",
       "21                900                       6                      4   \n",
       "17                 80                       4                      6   \n",
       "2                1500                       6                      8   \n",
       "13                 20                       2                      6   \n",
       "8                1100                      10                      8   \n",
       "20                 20                       2                      8   \n",
       "\n",
       "   param_max_features param_max_depth param_loss  \\\n",
       "12               log2              15      huber   \n",
       "22               auto               5      huber   \n",
       "14               sqrt              10         ls   \n",
       "24               log2              10         ls   \n",
       "21               None              10        lad   \n",
       "17               None              10        lad   \n",
       "2                sqrt               5        lad   \n",
       "13               log2              15        lad   \n",
       "8                log2               5        lad   \n",
       "20               log2              15         ls   \n",
       "\n",
       "                                               params  split0_test_score  \\\n",
       "12  {'n_estimators': 1500, 'min_samples_split': 10...          -0.396918   \n",
       "22  {'n_estimators': 1500, 'min_samples_split': 6,...          -0.536804   \n",
       "14  {'n_estimators': 80, 'min_samples_split': 6, '...          -0.550553   \n",
       "24  {'n_estimators': 50, 'min_samples_split': 2, '...          -0.566674   \n",
       "21  {'n_estimators': 900, 'min_samples_split': 6, ...          -0.569456   \n",
       "17  {'n_estimators': 80, 'min_samples_split': 4, '...          -0.634903   \n",
       "2   {'n_estimators': 1500, 'min_samples_split': 6,...          -0.630182   \n",
       "13  {'n_estimators': 20, 'min_samples_split': 2, '...          -0.641214   \n",
       "8   {'n_estimators': 1100, 'min_samples_split': 10...          -0.645731   \n",
       "20  {'n_estimators': 20, 'min_samples_split': 2, '...          -0.648841   \n",
       "\n",
       "    split1_test_score  split2_test_score  split3_test_score  mean_test_score  \\\n",
       "12          -0.386701          -0.394414          -0.396409        -0.393610   \n",
       "22          -0.526379          -0.524561          -0.544207        -0.532988   \n",
       "14          -0.522717          -0.538366          -0.546296        -0.539483   \n",
       "24          -0.540516          -0.545812          -0.553606        -0.551652   \n",
       "21          -0.549446          -0.573961          -0.526652        -0.554879   \n",
       "17          -0.569072          -0.633731          -0.617376        -0.613771   \n",
       "2           -0.605026          -0.616085          -0.635091        -0.621596   \n",
       "13          -0.603217          -0.634164          -0.651088        -0.632421   \n",
       "8           -0.618413          -0.640770          -0.652309        -0.639305   \n",
       "20          -0.630585          -0.658408          -0.653668        -0.647875   \n",
       "\n",
       "    std_test_score  rank_test_score  split0_train_score  split1_train_score  \\\n",
       "12        0.004098                1           -0.042560           -0.040545   \n",
       "22        0.007986                2           -0.342247           -0.342857   \n",
       "14        0.010622                3           -0.372685           -0.365453   \n",
       "24        0.009844                4           -0.418519           -0.407712   \n",
       "21        0.018727                5           -0.381191           -0.413211   \n",
       "17        0.026721                6           -0.512230           -0.489044   \n",
       "2         0.011840                7           -0.555967           -0.561381   \n",
       "13        0.017900                8           -0.489525           -0.476957   \n",
       "8         0.012738                9           -0.583716           -0.582934   \n",
       "20        0.010540               10           -0.498620           -0.507351   \n",
       "\n",
       "    split2_train_score  split3_train_score  mean_train_score  std_train_score  \n",
       "12           -0.043245           -0.043478         -0.042457         0.001154  \n",
       "22           -0.341410           -0.341051         -0.341891         0.000706  \n",
       "14           -0.375961           -0.373641         -0.371935         0.003927  \n",
       "24           -0.394890           -0.394812         -0.403983         0.009899  \n",
       "21           -0.399516           -0.327359         -0.380319         0.032619  \n",
       "17           -0.522221           -0.476739         -0.500058         0.018059  \n",
       "2            -0.555894           -0.552808         -0.556512         0.003086  \n",
       "13           -0.482979           -0.492917         -0.485594         0.006134  \n",
       "8            -0.593089           -0.581147         -0.585221         0.004637  \n",
       "20           -0.515544           -0.500391         -0.505476         0.006666  "
      ]
     },
     "execution_count": 91,
     "metadata": {},
     "output_type": "execute_result"
    }
   ],
   "source": [
    "# Get all of the cv results and sort by the test performance\n",
    "random_results = pd.DataFrame(random_cv.cv_results_).sort_values('mean_test_score', ascending = False)\n",
    "random_results.head(10)"
   ]
  },
  {
   "cell_type": "code",
   "execution_count": 92,
   "metadata": {},
   "outputs": [
    {
     "data": {
      "text/plain": [
       "GradientBoostingRegressor(loss='huber', max_depth=15, max_features='log2',\n",
       "                          min_samples_leaf=6, min_samples_split=10,\n",
       "                          n_estimators=1500, random_state=42)"
      ]
     },
     "execution_count": 92,
     "metadata": {},
     "output_type": "execute_result"
    }
   ],
   "source": [
    "random_cv.best_estimator_"
   ]
  },
  {
   "cell_type": "code",
   "execution_count": 93,
   "metadata": {},
   "outputs": [],
   "source": [
    "# Create a range of trees to evaluate\n",
    "trees_grid = {'n_estimators': [10,20,50,70,100, 150, 200, 250, 300, 350, 400, 450, 500,\n",
    "                               550, 600, 650, 700, 750, 800,1000,1100,1200]}\n",
    "\n",
    "model = GradientBoostingRegressor(loss = 'lad', max_depth = 5,\n",
    "                                  min_samples_leaf = 6,\n",
    "                                  min_samples_split = 6,\n",
    "                                  max_features = None,\n",
    "                                  random_state = 42)\n",
    "\n",
    "# Grid Search Object using the trees range and the random forest model\n",
    "grid_search = GridSearchCV(estimator = model, param_grid=trees_grid, cv = 4, \n",
    "                           scoring = 'neg_mean_absolute_error', verbose = 1,\n",
    "                           n_jobs = -1, return_train_score = True)"
   ]
  },
  {
   "cell_type": "code",
   "execution_count": 94,
   "metadata": {},
   "outputs": [
    {
     "name": "stdout",
     "output_type": "stream",
     "text": [
      "Fitting 4 folds for each of 22 candidates, totalling 88 fits\n"
     ]
    },
    {
     "data": {
      "text/plain": [
       "GridSearchCV(cv=4,\n",
       "             estimator=GradientBoostingRegressor(loss='lad', max_depth=5,\n",
       "                                                 min_samples_leaf=6,\n",
       "                                                 min_samples_split=6,\n",
       "                                                 random_state=42),\n",
       "             n_jobs=-1,\n",
       "             param_grid={'n_estimators': [10, 20, 50, 70, 100, 150, 200, 250,\n",
       "                                          300, 350, 400, 450, 500, 550, 600,\n",
       "                                          650, 700, 750, 800, 1000, 1100,\n",
       "                                          1200]},\n",
       "             return_train_score=True, scoring='neg_mean_absolute_error',\n",
       "             verbose=1)"
      ]
     },
     "execution_count": 94,
     "metadata": {},
     "output_type": "execute_result"
    }
   ],
   "source": [
    "# Fit the grid search\n",
    "grid_search.fit(X, y)"
   ]
  },
  {
   "cell_type": "code",
   "execution_count": 95,
   "metadata": {},
   "outputs": [
    {
     "data": {
      "image/png": "[encoded data removed]",
      "text/plain": [
       "<Figure size 576x576 with 1 Axes>"
      ]
     },
     "metadata": {},
     "output_type": "display_data"
    }
   ],
   "source": [
    "# Get the results into a dataframe\n",
    "results = pd.DataFrame(grid_search.cv_results_)\n",
    "# Plot the training and testing error vs number of trees\n",
    "figsize(8, 8)\n",
    "plt.style.use('fivethirtyeight')\n",
    "plt.plot(results['param_n_estimators'], -1 * results['mean_test_score'], label = 'Testing Error')\n",
    "plt.plot(results['param_n_estimators'], -1 * results['mean_train_score'], label = 'Training Error')\n",
    "plt.xlabel('Number of Trees'); plt.ylabel('Mean Abosolute Error'); plt.legend();\n",
    "plt.title('Performance vs Number of Trees');"
   ]
  },
  {
   "cell_type": "code",
   "execution_count": 96,
   "metadata": {},
   "outputs": [
    {
     "data": {
      "text/html": [
       "<div>\n",
       "<style scoped>\n",
       "    .dataframe tbody tr th:only-of-type {\n",
       "        vertical-align: middle;\n",
       "    }\n",
       "\n",
       "    .dataframe tbody tr th {\n",
       "        vertical-align: top;\n",
       "    }\n",
       "\n",
       "    .dataframe thead th {\n",
       "        text-align: right;\n",
       "    }\n",
       "</style>\n",
       "<table border=\"1\" class=\"dataframe\">\n",
       "  <thead>\n",
       "    <tr style=\"text-align: right;\">\n",
       "      <th></th>\n",
       "      <th>mean_fit_time</th>\n",
       "      <th>std_fit_time</th>\n",
       "      <th>mean_score_time</th>\n",
       "      <th>std_score_time</th>\n",
       "      <th>param_n_estimators</th>\n",
       "      <th>params</th>\n",
       "      <th>split0_test_score</th>\n",
       "      <th>split1_test_score</th>\n",
       "      <th>split2_test_score</th>\n",
       "      <th>split3_test_score</th>\n",
       "      <th>mean_test_score</th>\n",
       "      <th>std_test_score</th>\n",
       "      <th>rank_test_score</th>\n",
       "      <th>split0_train_score</th>\n",
       "      <th>split1_train_score</th>\n",
       "      <th>split2_train_score</th>\n",
       "      <th>split3_train_score</th>\n",
       "      <th>mean_train_score</th>\n",
       "      <th>std_train_score</th>\n",
       "    </tr>\n",
       "  </thead>\n",
       "  <tbody>\n",
       "    <tr>\n",
       "      <th>21</th>\n",
       "      <td>101.272649</td>\n",
       "      <td>2.073288</td>\n",
       "      <td>0.241108</td>\n",
       "      <td>0.002903</td>\n",
       "      <td>1200</td>\n",
       "      <td>{'n_estimators': 1200}</td>\n",
       "      <td>-0.880061</td>\n",
       "      <td>-0.858479</td>\n",
       "      <td>-0.876966</td>\n",
       "      <td>-0.922257</td>\n",
       "      <td>-0.884441</td>\n",
       "      <td>0.023340</td>\n",
       "      <td>1</td>\n",
       "      <td>-0.829926</td>\n",
       "      <td>-0.857413</td>\n",
       "      <td>-0.827665</td>\n",
       "      <td>-0.839442</td>\n",
       "      <td>-0.838612</td>\n",
       "      <td>0.011720</td>\n",
       "    </tr>\n",
       "    <tr>\n",
       "      <th>20</th>\n",
       "      <td>102.099483</td>\n",
       "      <td>0.669840</td>\n",
       "      <td>0.230189</td>\n",
       "      <td>0.004043</td>\n",
       "      <td>1100</td>\n",
       "      <td>{'n_estimators': 1100}</td>\n",
       "      <td>-0.883345</td>\n",
       "      <td>-0.858859</td>\n",
       "      <td>-0.878049</td>\n",
       "      <td>-0.922690</td>\n",
       "      <td>-0.885736</td>\n",
       "      <td>0.023199</td>\n",
       "      <td>2</td>\n",
       "      <td>-0.834634</td>\n",
       "      <td>-0.858463</td>\n",
       "      <td>-0.830802</td>\n",
       "      <td>-0.841154</td>\n",
       "      <td>-0.841263</td>\n",
       "      <td>0.010597</td>\n",
       "    </tr>\n",
       "    <tr>\n",
       "      <th>19</th>\n",
       "      <td>104.750192</td>\n",
       "      <td>1.138473</td>\n",
       "      <td>0.216801</td>\n",
       "      <td>0.001102</td>\n",
       "      <td>1000</td>\n",
       "      <td>{'n_estimators': 1000}</td>\n",
       "      <td>-0.886860</td>\n",
       "      <td>-0.859040</td>\n",
       "      <td>-0.879809</td>\n",
       "      <td>-0.924948</td>\n",
       "      <td>-0.887664</td>\n",
       "      <td>0.023832</td>\n",
       "      <td>3</td>\n",
       "      <td>-0.840357</td>\n",
       "      <td>-0.859063</td>\n",
       "      <td>-0.833619</td>\n",
       "      <td>-0.844721</td>\n",
       "      <td>-0.844440</td>\n",
       "      <td>0.009323</td>\n",
       "    </tr>\n",
       "    <tr>\n",
       "      <th>18</th>\n",
       "      <td>95.222406</td>\n",
       "      <td>1.217757</td>\n",
       "      <td>0.186674</td>\n",
       "      <td>0.020565</td>\n",
       "      <td>800</td>\n",
       "      <td>{'n_estimators': 800}</td>\n",
       "      <td>-0.888490</td>\n",
       "      <td>-0.861378</td>\n",
       "      <td>-0.883306</td>\n",
       "      <td>-0.929782</td>\n",
       "      <td>-0.890739</td>\n",
       "      <td>0.024732</td>\n",
       "      <td>4</td>\n",
       "      <td>-0.843633</td>\n",
       "      <td>-0.863167</td>\n",
       "      <td>-0.839076</td>\n",
       "      <td>-0.852883</td>\n",
       "      <td>-0.849690</td>\n",
       "      <td>0.009235</td>\n",
       "    </tr>\n",
       "    <tr>\n",
       "      <th>17</th>\n",
       "      <td>93.534511</td>\n",
       "      <td>2.626124</td>\n",
       "      <td>0.187441</td>\n",
       "      <td>0.021033</td>\n",
       "      <td>750</td>\n",
       "      <td>{'n_estimators': 750}</td>\n",
       "      <td>-0.888724</td>\n",
       "      <td>-0.861889</td>\n",
       "      <td>-0.883789</td>\n",
       "      <td>-0.930691</td>\n",
       "      <td>-0.891273</td>\n",
       "      <td>0.024898</td>\n",
       "      <td>5</td>\n",
       "      <td>-0.844396</td>\n",
       "      <td>-0.863714</td>\n",
       "      <td>-0.839564</td>\n",
       "      <td>-0.855597</td>\n",
       "      <td>-0.850817</td>\n",
       "      <td>0.009448</td>\n",
       "    </tr>\n",
       "  </tbody>\n",
       "</table>\n",
       "</div>"
      ],
      "text/plain": [
       "    mean_fit_time  std_fit_time  mean_score_time  std_score_time  \\\n",
       "21     101.272649      2.073288         0.241108        0.002903   \n",
       "20     102.099483      0.669840         0.230189        0.004043   \n",
       "19     104.750192      1.138473         0.216801        0.001102   \n",
       "18      95.222406      1.217757         0.186674        0.020565   \n",
       "17      93.534511      2.626124         0.187441        0.021033   \n",
       "\n",
       "   param_n_estimators                  params  split0_test_score  \\\n",
       "21               1200  {'n_estimators': 1200}          -0.880061   \n",
       "20               1100  {'n_estimators': 1100}          -0.883345   \n",
       "19               1000  {'n_estimators': 1000}          -0.886860   \n",
       "18                800   {'n_estimators': 800}          -0.888490   \n",
       "17                750   {'n_estimators': 750}          -0.888724   \n",
       "\n",
       "    split1_test_score  split2_test_score  split3_test_score  mean_test_score  \\\n",
       "21          -0.858479          -0.876966          -0.922257        -0.884441   \n",
       "20          -0.858859          -0.878049          -0.922690        -0.885736   \n",
       "19          -0.859040          -0.879809          -0.924948        -0.887664   \n",
       "18          -0.861378          -0.883306          -0.929782        -0.890739   \n",
       "17          -0.861889          -0.883789          -0.930691        -0.891273   \n",
       "\n",
       "    std_test_score  rank_test_score  split0_train_score  split1_train_score  \\\n",
       "21        0.023340                1           -0.829926           -0.857413   \n",
       "20        0.023199                2           -0.834634           -0.858463   \n",
       "19        0.023832                3           -0.840357           -0.859063   \n",
       "18        0.024732                4           -0.843633           -0.863167   \n",
       "17        0.024898                5           -0.844396           -0.863714   \n",
       "\n",
       "    split2_train_score  split3_train_score  mean_train_score  std_train_score  \n",
       "21           -0.827665           -0.839442         -0.838612         0.011720  \n",
       "20           -0.830802           -0.841154         -0.841263         0.010597  \n",
       "19           -0.833619           -0.844721         -0.844440         0.009323  \n",
       "18           -0.839076           -0.852883         -0.849690         0.009235  \n",
       "17           -0.839564           -0.855597         -0.850817         0.009448  "
      ]
     },
     "execution_count": 96,
     "metadata": {},
     "output_type": "execute_result"
    }
   ],
   "source": [
    "results.sort_values('mean_test_score', ascending = False).head(5)"
   ]
  },
  {
   "cell_type": "code",
   "execution_count": 97,
   "metadata": {},
   "outputs": [
    {
     "data": {
      "text/plain": [
       "GradientBoostingRegressor(loss='lad', max_depth=5, min_samples_leaf=6,\n",
       "                          min_samples_split=6, n_estimators=1200,\n",
       "                          random_state=42)"
      ]
     },
     "execution_count": 97,
     "metadata": {},
     "output_type": "execute_result"
    }
   ],
   "source": [
    "# Default model\n",
    "default_model = GradientBoostingRegressor(random_state = 42)\n",
    "\n",
    "# Select the best model\n",
    "final_model = grid_search.best_estimator_\n",
    "\n",
    "final_model"
   ]
  },
  {
   "cell_type": "code",
   "execution_count": 98,
   "metadata": {},
   "outputs": [
    {
     "name": "stdout",
     "output_type": "stream",
     "text": [
      "4.28 s ± 24.6 ms per loop (mean ± std. dev. of 5 runs, 1 loop each)\n"
     ]
    }
   ],
   "source": [
    "%%timeit -n 1 -r 5\n",
    "#https://ipython.readthedocs.io/en/stable/interactive/magics.html\n",
    "default_model.fit(X, y)"
   ]
  },
  {
   "cell_type": "code",
   "execution_count": 99,
   "metadata": {},
   "outputs": [
    {
     "name": "stdout",
     "output_type": "stream",
     "text": [
      "1min 32s ± 153 ms per loop (mean ± std. dev. of 5 runs, 1 loop each)\n"
     ]
    }
   ],
   "source": [
    "%%timeit -n 1 -r 5\n",
    "final_model.fit(X, y)"
   ]
  },
  {
   "cell_type": "code",
   "execution_count": 100,
   "metadata": {},
   "outputs": [
    {
     "name": "stdout",
     "output_type": "stream",
     "text": [
      "Default model performance on the test set: MAE = 0.9425.\n",
      "Final model performance on the test set:   MAE = 0.8745.\n"
     ]
    }
   ],
   "source": [
    "default_pred = default_model.predict(X_test)\n",
    "final_pred = final_model.predict(X_test)\n",
    "\n",
    "print('Default model performance on the test set: MAE = %0.4f.' % mae(y_test, default_pred))\n",
    "print('Final model performance on the test set:   MAE = %0.4f.' % mae(y_test, final_pred))"
   ]
  },
  {
   "cell_type": "code",
   "execution_count": 101,
   "metadata": {},
   "outputs": [
    {
     "data": {
      "image/png": "[encoded data removed]",
      "text/plain": [
       "<Figure size 576x576 with 1 Axes>"
      ]
     },
     "metadata": {},
     "output_type": "display_data"
    }
   ],
   "source": [
    "figsize(8, 8)\n",
    "\n",
    "# Density plot of the final predictions and the test values\n",
    "sns.kdeplot(final_pred, label = 'Predictions')\n",
    "sns.kdeplot(y_test, label = 'Values')\n",
    "\n",
    "plt.legend(bbox_to_anchor=(1, 0), loc='lower right', borderaxespad=1, fontsize=18)\n",
    "# Label the plot\n",
    "plt.xlabel('Location_No'); plt.ylabel('Density');\n",
    "plt.title('Test Values and Predictions');"
   ]
  },
  {
   "cell_type": "code",
   "execution_count": 102,
   "metadata": {},
   "outputs": [
    {
     "data": {
      "image/png": "[encoded data removed]",
      "text/plain": [
       "<Figure size 576x576 with 1 Axes>"
      ]
     },
     "metadata": {},
     "output_type": "display_data"
    }
   ],
   "source": [
    "figsize = (6, 6)\n",
    "\n",
    "# Calculate the residuals \n",
    "residuals = final_pred - y_test\n",
    "\n",
    "# Plot the residuals in a histogram\n",
    "plt.hist(residuals, color = 'red', bins = 20,\n",
    "         edgecolor = 'black')\n",
    "plt.xlabel('Error'); plt.ylabel('Count')\n",
    "plt.title('Distribution');\n",
    "#plt.title('Distribution of Residuals');"
   ]
  },
  {
   "cell_type": "code",
   "execution_count": null,
   "metadata": {},
   "outputs": [],
   "source": []
  },
  {
   "cell_type": "code",
   "execution_count": null,
   "metadata": {},
   "outputs": [],
   "source": []
  },
  {
   "cell_type": "code",
   "execution_count": null,
   "metadata": {},
   "outputs": [],
   "source": []
  },
  {
   "cell_type": "code",
   "execution_count": null,
   "metadata": {},
   "outputs": [],
   "source": [
    "print(np.where(~np.isfinite(X)))\n",
    "print(np.where(~np.isfinite(X_test)))"
   ]
  },
  {
   "cell_type": "code",
   "execution_count": null,
   "metadata": {},
   "outputs": [],
   "source": [
    "# Function to calculate accuracy\n",
    "def accracy(y_true, total):\n",
    "    true_positive_filter = (admissions[\"predicted_label\"] == 1) & (admissions[\"actual_label\"] == 1)\n",
    "    true_positives = len(admissions[true_positive_filter])\n",
    "    true_negative_filter = (admissions[\"predicted_label\"] == 0) & (admissions[\"actual_label\"] == 0)\n",
    "    true_negatives = len(admissions[true_negative_filter])\n",
    "    print(true_positives)\n",
    "    print(true_negatives)\n",
    "\n",
    "    \n",
    "# Function to calculate sensity\n",
    "def sensitivity(y_true, total):\n",
    "    true_positive_filter = (admissions[\"predicted_label\"] == 1) & (admissions[\"actual_label\"] == 1)\n",
    "    true_positives = len(admissions[true_positive_filter])\n",
    "    false_negative_filter = (admissions[\"predicted_label\"] == 0) & (admissions[\"actual_label\"] == 1)\n",
    "    false_negatives = len(admissions[false_negative_filter])\n",
    "    sensitivity = true_positives / float((true_positives + false_negatives))\n",
    "    print(sensitivity)\n",
    "\n",
    "# Function to calculate specificity \n",
    "def specificity():\n",
    "    true_positive_filter = (admissions[\"predicted_label\"] == 1) & (admissions[\"actual_label\"] == 1)\n",
    "    true_positives = len(admissions[true_positive_filter])\n",
    "    false_negative_filter = (admissions[\"predicted_label\"] == 0) & (admissions[\"actual_label\"] == 1)\n",
    "    false_negatives = len(admissions[false_negative_filter])\n",
    "    true_negative_filter = (admissions[\"predicted_label\"] == 0) & (admissions[\"actual_label\"] == 0)\n",
    "    true_negatives = len(admissions[true_negative_filter])\n",
    "    false_positive_filter = (admissions[\"predicted_label\"] == 1) & (admissions[\"actual_label\"] == 0)\n",
    "    false_positives = len(admissions[false_positive_filter])\n",
    "    specificity = (true_negatives) / float((false_positives + true_negatives))"
   ]
  },
  {
   "cell_type": "code",
   "execution_count": 90,
   "metadata": {},
   "outputs": [],
   "source": []
  },
  {
   "cell_type": "code",
   "execution_count": 71,
   "metadata": {},
   "outputs": [],
   "source": []
  },
  {
   "cell_type": "code",
   "execution_count": 72,
   "metadata": {},
   "outputs": [
    {
     "name": "stdout",
     "output_type": "stream",
     "text": [
      "[[50884   703   225   193    98    97    53    29    17    19]\n",
      " [  192 21197   398   125    56    55    40    19    12     4]\n",
      " [   21    66  7105   199    53    25    16     8     3     4]\n",
      " [   28    45    69 36684   283   169    77    78    50    13]\n",
      " [   29    47   126   317 41330  1014   229   167    50    57]\n",
      " [    9    54    67   183   494 29014  1093   450   127    56]\n",
      " [    7    30    27    66   106   400 28763   719   106    24]\n",
      " [    4    26    13    63   103   339  1140 27267   611   102]\n",
      " [    7    21    25    58    78   191   326  1008 49995   225]\n",
      " [   12    18    36    55   119   286   276   919  1906 34935]]\n",
      "[ 1  2  3  4  5  6  7  8  9 10]\n"
     ]
    },
    {
     "name": "stderr",
     "output_type": "stream",
     "text": [
      "<ipython-input-70-410ec059a5f8>:36: MatplotlibDeprecationWarning: savefig() got unexpected keyword argument \"quality\" which is no longer supported as of 3.3 and will become an error two minor releases later\n",
      "  plt.savefig('./images/maedropna_withprocess'+title+dt+'.png',quality=100,dpi=500)\n"
     ]
    },
    {
     "data": {
      "text/plain": [
       "<Figure size 576x720 with 0 Axes>"
      ]
     },
     "metadata": {},
     "output_type": "display_data"
    },
    {
     "data": {
      "image/png": "[encoded data removed]",
      "text/plain": [
       "<Figure size 432x288 with 1 Axes>"
      ]
     },
     "metadata": {},
     "output_type": "display_data"
    }
   ],
   "source": []
  },
  {
   "cell_type": "code",
   "execution_count": 45,
   "metadata": {},
   "outputs": [],
   "source": []
  },
  {
   "cell_type": "code",
   "execution_count": 73,
   "metadata": {},
   "outputs": [
    {
     "name": "stdout",
     "output_type": "stream",
     "text": [
      "[[22372 10089  8938  5597  3483  1364   411    53    10     1]\n",
      " [   98  8173  8838  2840  1721   239   148    38     3     0]\n",
      " [    0   157  2695  1764  1858   845   156    23     2     0]\n",
      " [    1    22   599 25040  9248  1855   596   120    13     2]\n",
      " [   11   210   917  3407 15206 13364  7200  2812   217    22]\n",
      " [    1    50   240  1160  3190 15910  8662  2076   231    27]\n",
      " [    5    43   203   788  2024  4067 15782  6893   423    20]\n",
      " [    1    36    94   368  1899  3551  8023 14743   936    17]\n",
      " [   11    39   306  1065  2099  2291  7425 18736 19570   392]\n",
      " [    6    32   131   351  1123  1795  3616 10581 11512  9415]]\n",
      "[ 1  2  3  4  5  6  7  8  9 10]\n"
     ]
    },
    {
     "name": "stderr",
     "output_type": "stream",
     "text": [
      "<ipython-input-70-410ec059a5f8>:36: MatplotlibDeprecationWarning: savefig() got unexpected keyword argument \"quality\" which is no longer supported as of 3.3 and will become an error two minor releases later\n",
      "  plt.savefig('./images/maedropna_withprocess'+title+dt+'.png',quality=100,dpi=500)\n"
     ]
    },
    {
     "data": {
      "text/plain": [
       "<Figure size 432x576 with 0 Axes>"
      ]
     },
     "metadata": {},
     "output_type": "display_data"
    },
    {
     "data": {
      "image/png": "[encoded data removed]",
      "text/plain": [
       "<Figure size 432x288 with 1 Axes>"
      ]
     },
     "metadata": {},
     "output_type": "display_data"
    }
   ],
   "source": [
    "rf_cnf_matrix= make_confusion_matrix(y_test.to_array(), rf_pred.to_array())\n",
    "print(rf_cnf_matrix)\n",
    "plt.figure(figsize=(6,8))\n",
    "plot_confusion_matrix(rf_cnf_matrix, title='RF Confusion matrix')\n",
    "plt.show()"
   ]
  },
  {
   "cell_type": "code",
   "execution_count": 74,
   "metadata": {},
   "outputs": [
    {
     "ename": "NameError",
     "evalue": "name 'gb_pred' is not defined",
     "output_type": "error",
     "traceback": [
      "\u001b[0;31m---------------------------------------------------------------------------\u001b[0m",
      "\u001b[0;31mNameError\u001b[0m                                 Traceback (most recent call last)",
      "\u001b[0;32m<ipython-input-74-8af548a0bb8e>\u001b[0m in \u001b[0;36m<module>\u001b[0;34m\u001b[0m\n\u001b[0;32m----> 1\u001b[0;31m \u001b[0mgb_cnf_matrix\u001b[0m\u001b[0;34m=\u001b[0m \u001b[0mmake_confusion_matrix\u001b[0m\u001b[0;34m(\u001b[0m\u001b[0my_test\u001b[0m\u001b[0;34m,\u001b[0m \u001b[0mgb_pred\u001b[0m\u001b[0;34m)\u001b[0m\u001b[0;34m\u001b[0m\u001b[0;34m\u001b[0m\u001b[0m\n\u001b[0m\u001b[1;32m      2\u001b[0m \u001b[0mgb_cnf_matrix\u001b[0m\u001b[0;34m=\u001b[0m\u001b[0mgb_cnf_matrix\u001b[0m\u001b[0;34m[\u001b[0m\u001b[0;34m:\u001b[0m\u001b[0;36m10\u001b[0m\u001b[0;34m,\u001b[0m\u001b[0;34m:\u001b[0m\u001b[0;36m10\u001b[0m\u001b[0;34m]\u001b[0m\u001b[0;34m\u001b[0m\u001b[0;34m\u001b[0m\u001b[0m\n\u001b[1;32m      3\u001b[0m \u001b[0mprint\u001b[0m\u001b[0;34m(\u001b[0m\u001b[0mgb_cnf_matrix\u001b[0m\u001b[0;34m)\u001b[0m\u001b[0;34m\u001b[0m\u001b[0;34m\u001b[0m\u001b[0m\n\u001b[1;32m      4\u001b[0m \u001b[0mplt\u001b[0m\u001b[0;34m.\u001b[0m\u001b[0mfigure\u001b[0m\u001b[0;34m(\u001b[0m\u001b[0mfigsize\u001b[0m\u001b[0;34m=\u001b[0m\u001b[0;34m(\u001b[0m\u001b[0;36m6\u001b[0m\u001b[0;34m,\u001b[0m\u001b[0;36m8\u001b[0m\u001b[0;34m)\u001b[0m\u001b[0;34m)\u001b[0m\u001b[0;34m\u001b[0m\u001b[0;34m\u001b[0m\u001b[0m\n\u001b[1;32m      5\u001b[0m \u001b[0mplot_confusion_matrix\u001b[0m\u001b[0;34m(\u001b[0m\u001b[0mgb_cnf_matrix\u001b[0m\u001b[0;34m,\u001b[0m \u001b[0mtitle\u001b[0m\u001b[0;34m=\u001b[0m\u001b[0;34m'GB Confusion matrix'\u001b[0m\u001b[0;34m)\u001b[0m\u001b[0;34m\u001b[0m\u001b[0;34m\u001b[0m\u001b[0m\n",
      "\u001b[0;31mNameError\u001b[0m: name 'gb_pred' is not defined"
     ]
    }
   ],
   "source": [
    "knn_cnf_matrix= make_confusion_matrix(y_test, gb_pred)\n",
    "gb_cnf_matrix=gb_cnf_matrix[:10,:10]\n",
    "print(gb_cnf_matrix)\n",
    "plt.figure(figsize=(6,8))\n",
    "plot_confusion_matrix(gb_cnf_matrix, title='GB Confusion matrix')\n",
    "plt.show()"
   ]
  },
  {
   "cell_type": "code",
   "execution_count": 178,
   "metadata": {},
   "outputs": [
    {
     "name": "stdout",
     "output_type": "stream",
     "text": [
      "[ 5.  6.  7.  8.  9. 10. 11. 12. 13. 14. 16. 17.]\n",
      "[[   0    0    0    0   46  789  336   50    1    0]\n",
      " [   0    0    0    0   42  462  284   34    0    0]\n",
      " [   0    0    0    0   29  189   38   31    0    0]\n",
      " [   0    0    0    0   27  771  363   60    0    0]\n",
      " [   0    0    0    0   13  762  326   87    0    0]\n",
      " [   0    0    0    0   41  620  274   86    0    0]\n",
      " [   0    0    0    0   11  379  321  137    1    0]\n",
      " [   0    0    0    0   20  477 7037 5267  357   11]\n",
      " [   0    0    0    0   10  794  369  161    3    0]\n",
      " [   0    0    0    0   19  977  325  161    6    0]]\n",
      "[ 1  2  3  4  5  6  7  8  9 10]\n"
     ]
    },
    {
     "data": {
      "text/plain": [
       "<Figure size 432x576 with 0 Axes>"
      ]
     },
     "metadata": {},
     "output_type": "display_data"
    },
    {
     "data": {
      "image/png": "[encoded data removed]",
      "text/plain": [
       "<Figure size 576x576 with 1 Axes>"
      ]
     },
     "metadata": {},
     "output_type": "display_data"
    }
   ],
   "source": [
    "lr_cnf_matrix= make_confusion_matrix(y_test, lr_pred)\n",
    "print(np.unique(lr_pred))\n",
    "\n",
    "lr_cnf_matrix=lr_cnf_matrix[:10,:10]\n",
    "print(lr_cnf_matrix)\n",
    "plt.figure(figsize=(6,8))\n",
    "plot_confusion_matrix(lr_cnf_matrix, title='LR Confusion matrix')\n",
    "plt.show()\n",
    "# pd.crosstab(test[\"Label\"], predictions, rownames=[\"Actual\"], colnames=[\"Predicted\"])"
   ]
  },
  {
   "cell_type": "code",
   "execution_count": null,
   "metadata": {},
   "outputs": [],
   "source": []
  }
 ],
 "metadata": {
  "kernelspec": {
   "display_name": "Python 3",
   "language": "python",
   "name": "python3"
  },
  "language_info": {
   "codemirror_mode": {
    "name": "ipython",
    "version": 3
   },
   "file_extension": ".py",
   "mimetype": "text/x-python",
   "name": "python",
   "nbconvert_exporter": "python",
   "pygments_lexer": "ipython3",
   "version": "3.8.8"
  },
  "toc": {
   "base_numbering": 1,
   "nav_menu": {},
   "number_sections": true,
   "sideBar": true,
   "skip_h1_title": false,
   "title_cell": "Table of Contents",
   "title_sidebar": "Contents",
   "toc_cell": false,
   "toc_position": {},
   "toc_section_display": true,
   "toc_window_display": false
  },
  "varInspector": {
   "cols": {
    "lenName": 16,
    "lenType": 16,
    "lenVar": 40
   },
   "kernels_config": {
    "python": {
     "delete_cmd_postfix": "",
     "delete_cmd_prefix": "del ",
     "library": "var_list.py",
     "varRefreshCmd": "print(var_dic_list())"
    },
    "r": {
     "delete_cmd_postfix": ") ",
     "delete_cmd_prefix": "rm(",
     "library": "var_list.r",
     "varRefreshCmd": "cat(var_dic_list()) "
    }
   },
   "oldHeight": 386,
   "position": {
    "height": "40px",
    "left": "775px",
    "right": "20px",
    "top": "68px",
    "width": "658px"
   },
   "types_to_exclude": [
    "module",
    "function",
    "builtin_function_or_method",
    "instance",
    "_Feature"
   ],
   "varInspector_section_display": "none",
   "window_display": false
  }
 },
 "nbformat": 4,
 "nbformat_minor": 4
}
